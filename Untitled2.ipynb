{
  "nbformat": 4,
  "nbformat_minor": 0,
  "metadata": {
    "colab": {
      "name": "Untitled2.ipynb",
      "provenance": []
    },
    "kernelspec": {
      "name": "python3",
      "display_name": "Python 3"
    }
  },
  "cells": [
    {
      "cell_type": "code",
      "metadata": {
        "id": "n4e7e4_NIcnw"
      },
      "source": [
        "import numpy as np\r\n",
        "import pandas as pd\r\n",
        "import json\r\n",
        "import re\r\n",
        "import tensorflow as tf\r\n",
        "import random\r\n",
        "import spacy\r\n",
        "import datetime\r\n",
        "nlp = spacy.load('en_core_web_sm')"
      ],
      "execution_count": 2,
      "outputs": []
    },
    {
      "cell_type": "code",
      "metadata": {
        "colab": {
          "base_uri": "https://localhost:8080/"
        },
        "id": "1alSEcdpIt1r",
        "outputId": "cdca2853-17aa-4656-cdf5-d0d65687b97f"
      },
      "source": [
        "!unzip /content/drive/MyDrive/Chatbot/archive.zip\r\n"
      ],
      "execution_count": 6,
      "outputs": [
        {
          "output_type": "stream",
          "text": [
            "Archive:  /content/drive/MyDrive/Chatbot/archive.zip\n",
            "  inflating: Intent.json             \n"
          ],
          "name": "stdout"
        }
      ]
    },
    {
      "cell_type": "code",
      "metadata": {
        "id": "Nn6EUmV-Iy-w",
        "colab": {
          "base_uri": "https://localhost:8080/"
        },
        "outputId": "e575bf73-f8be-4438-a3a1-be8acbe9c569"
      },
      "source": [
        "dict1=json.load(open('Intent.json'))\r\n",
        "for i in dict1['intents']:\r\n",
        "  print(i)"
      ],
      "execution_count": 7,
      "outputs": [
        {
          "output_type": "stream",
          "text": [
            "{'intent': 'Greeting', 'text': ['Hi', 'Hi there', 'Hola', 'Hello', 'Hello there', 'Hya', 'Hya there'], 'responses': ['Hi human, please tell me your GeniSys user', 'Hello human, please tell me your GeniSys user', 'Hola human, please tell me your GeniSys user'], 'extension': {'function': '', 'entities': False, 'responses': []}, 'context': {'in': '', 'out': 'GreetingUserRequest', 'clear': False}, 'entityType': 'NA', 'entities': []}\n",
            "{'intent': 'GreetingResponse', 'text': ['My user is Adam', 'This is Adam', 'I am Adam', 'It is Adam', 'My user is Bella', 'This is Bella', 'I am Bella', 'It is Bella'], 'responses': ['Great! Hi <HUMAN>! How can I help?', 'Good! Hi <HUMAN>, how can I help you?', 'Cool! Hello <HUMAN>, what can I do for you?', 'OK! Hola <HUMAN>, how can I help you?', 'OK! hi <HUMAN>, what can I do for you?'], 'extension': {'function': 'extensions.gHumans.updateHuman', 'entities': True, 'responses': ['Hi %%HUMAN%%! How can I help?', 'Hi %%HUMAN%%, how can I help you?', 'Hello %%HUMAN%%, what can I do for you?', 'Hola %%HUMAN%%, how can I help you?', 'OK hi %%HUMAN%%, what can I do for you?']}, 'context': {'in': 'GreetingUserRequest', 'out': '', 'clear': True}, 'entityType': 'NA', 'entities': [{'entity': 'HUMAN', 'rangeFrom': 3, 'rangeTo': 4}, {'entity': 'HUMAN', 'rangeFrom': 2, 'rangeTo': 3}, {'entity': 'HUMAN', 'rangeFrom': 1, 'rangeTo': 2}, {'entity': 'HUMAN', 'rangeFrom': 2, 'rangeTo': 3}, {'entity': 'HUMAN', 'rangeFrom': 3, 'rangeTo': 4}, {'entity': 'HUMAN', 'rangeFrom': 2, 'rangeTo': 3}, {'entity': 'HUMAN', 'rangeFrom': 1, 'rangeTo': 2}, {'entity': 'HUMAN', 'rangeFrom': 2, 'rangeTo': 3}]}\n",
            "{'intent': 'CourtesyGreeting', 'text': ['How are you?', 'Hi how are you?', 'Hello how are you?', 'Hola how are you?', 'How are you doing?', 'Hope you are doing well?', 'Hello hope you are doing well?'], 'responses': ['Hello, I am great, how are you? Please tell me your GeniSys user', 'Hello, how are you? I am great thanks! Please tell me your GeniSys user', 'Hello, I am good thank you, how are you? Please tell me your GeniSys user', 'Hi, I am great, how are you? Please tell me your GeniSys user', 'Hi, how are you? I am great thanks! Please tell me your GeniSys user', 'Hi, I am good thank you, how are you? Please tell me your GeniSys user', 'Hi, good thank you, how are you? Please tell me your GeniSys user'], 'extension': {'function': '', 'entities': False, 'responses': []}, 'context': {'in': '', 'out': 'CourtesyGreetingUserRequest', 'clear': True}, 'entityType': 'NA', 'entities': []}\n",
            "{'intent': 'CourtesyGreetingResponse', 'text': ['Good thanks! My user is Adam', 'Good thanks! This is Adam', 'Good thanks! I am Adam', 'Good thanks! It is Adam', 'Great thanks! My user is Bella', 'Great thanks! This is Bella', 'Great thanks! I am Bella', 'Great thanks! It is Bella'], 'responses': ['Great! Hi <HUMAN>! How can I help?', 'Good! Hi <HUMAN>, how can I help you?', 'Cool! Hello <HUMAN>, what can I do for you?', 'OK! Hola <HUMAN>, how can I help you?', 'OK! hi <HUMAN>, what can I do for you?'], 'extension': {'function': 'extensions.gHumans.updateHuman', 'entities': True, 'responses': ['Great %%HUMAN%%! How can I help?', 'Good %%HUMAN%%, how can I help you?', 'Cool %%HUMAN%%, what can I do for you?', 'OK %%HUMAN%%, how can I help you?', 'OK hi %%HUMAN%%, what can I do for you?']}, 'context': {'in': 'GreetingUserRequest', 'out': '', 'clear': True}, 'entityType': 'NA', 'entities': [{'entity': 'HUMAN', 'rangeFrom': 5, 'rangeTo': 6}, {'entity': 'HUMAN', 'rangeFrom': 4, 'rangeTo': 5}, {'entity': 'HUMAN', 'rangeFrom': 3, 'rangeTo': 4}, {'entity': 'HUMAN', 'rangeFrom': 4, 'rangeTo': 5}, {'entity': 'HUMAN', 'rangeFrom': 5, 'rangeTo': 6}, {'entity': 'HUMAN', 'rangeFrom': 4, 'rangeTo': 5}, {'entity': 'HUMAN', 'rangeFrom': 3, 'rangeTo': 4}, {'entity': 'HUMAN', 'rangeFrom': 3, 'rangeTo': 4}]}\n",
            "{'intent': 'CurrentHumanQuery', 'text': ['What is my name?', 'What do you call me?', 'Who do you think I am?', 'What do you think I am?', 'Who are you talking to?', 'What name do you call me by?', 'Tell me my name'], 'responses': ['You are <HUMAN>! How can I help?', 'Your name is  <HUMAN>, how can I help you?', 'They call you <HUMAN>, what can I do for you?', 'Your name is <HUMAN>, how can I help you?', '<HUMAN>, what can I do for you?'], 'extension': {'function': 'extensions.gHumans.getCurrentHuman', 'entities': False, 'responses': ['You are %%HUMAN%%! How can I help?', 'Your name is  %%HUMAN%%, how can I help you?', 'They call you %%HUMAN%%, what can I do for you?', 'Your name is %%HUMAN%%, how can I help you?', '%%HUMAN%%, what can I do for you?']}, 'context': {'in': '', 'out': 'CurrentHumanQuery', 'clear': False}, 'entityType': 'NA', 'entities': []}\n",
            "{'intent': 'NameQuery', 'text': ['What is your name?', 'What could I call you?', 'What can I call you?', 'What do your friends call you?', 'Who are you?', 'Tell me your name?'], 'responses': ['You can call me Geni', 'You may call me Geni', 'Call me Geni'], 'extension': {'function': '', 'entities': False, 'responses': []}, 'context': {'in': '', 'out': '', 'clear': False}, 'entityType': 'NA', 'entities': []}\n",
            "{'intent': 'RealNameQuery', 'text': ['What is your real name?', 'What is your real name please?', \"What's your real name?\", 'Tell me your real name?', 'Your real name?', 'Your real name please?', 'Your real name please?'], 'responses': ['My name is GeniSys', 'GeniSys', 'My real name is GeniSys'], 'extension': {'function': '', 'entities': False, 'responses': []}, 'context': {'in': '', 'out': '', 'clear': False}, 'entityType': 'NA', 'entities': []}\n",
            "{'intent': 'TimeQuery', 'text': ['What is the time?', \"What's the time?\", 'Do you know what time it is?', 'Do you know the time?', 'Can you tell me the time?', 'Tell me what time it is?', 'Time'], 'responses': ['One moment', 'One sec', 'One second'], 'extension': {'function': 'extensions.gTime.getTime', 'entities': False, 'responses': ['The time is %%TIME%%', 'Right now it is %%TIME%%', 'It is around %%TIME%%']}, 'context': {'in': '', 'out': '', 'clear': False}, 'entityType': 'NA', 'entities': []}\n",
            "{'intent': 'Thanks', 'text': ['OK thank you', 'OK thanks', 'OK', 'Thanks', 'Thank you', \"That's helpful\"], 'responses': ['No problem!', 'Happy to help!', 'Any time!', 'My pleasure'], 'extension': {'function': '', 'entities': False, 'responses': []}, 'context': {'in': '', 'out': '', 'clear': False}, 'entityType': 'NA', 'entities': []}\n",
            "{'intent': 'NotTalking2U', 'text': ['I am not talking to you', 'I was not talking to you', 'Not talking to you', \"Wasn't for you\", \"Wasn't meant for you\", \"Wasn't communicating to you\", \"Wasn't speaking to you\"], 'responses': ['OK', 'No problem', 'Right'], 'extension': {'function': '', 'entities': False, 'responses': []}, 'context': {'in': '', 'out': '', 'clear': False}, 'entityType': 'NA', 'entities': []}\n",
            "{'intent': 'UnderstandQuery', 'text': ['Do you understand what I am saying', 'Do you understand me', 'Do you know what I am saying', 'Do you get me', 'Comprendo', 'Know what I mean'], 'responses': ['Well I would not be a very clever AI if I did not would I?', 'I read you loud and clear!', 'I do in deed!'], 'extension': {'function': '', 'entities': False, 'responses': []}, 'context': {'in': '', 'out': '', 'clear': False}, 'entities': []}\n",
            "{'intent': 'Shutup', 'text': ['Be quiet', 'Shut up', 'Stop talking', 'Enough talking', 'Please be quiet', 'Quiet', 'Shhh'], 'responses': ['I am sorry to disturb you', 'Fine, sorry to disturb you', 'OK, sorry to disturb you'], 'extension': {'function': '', 'entities': False, 'responses': []}, 'context': {'in': '', 'out': '', 'clear': False}, 'entityType': 'NA', 'entities': []}\n",
            "{'intent': 'Swearing', 'text': ['fuck off', 'fuck', 'twat', 'shit'], 'responses': ['Please do not swear', 'How rude', 'That is not very nice'], 'extension': {'function': '', 'entities': False, 'responses': []}, 'context': {'in': '', 'out': '', 'clear': False}, 'entityType': 'NA', 'entities': []}\n",
            "{'intent': 'GoodBye', 'text': ['Bye', 'Adios', 'See you later', 'Goodbye'], 'responses': ['See you later', 'Have a nice day', 'Bye! Come back again soon.'], 'extension': {'function': '', 'entities': False, 'responses': []}, 'context': {'in': '', 'out': '', 'clear': False}, 'entityType': 'NA', 'entities': []}\n",
            "{'intent': 'CourtesyGoodBye', 'text': ['Thanks, bye', 'Thanks for the help, goodbye', 'Thank you, bye', 'Thank you, goodbye', 'Thanks goodbye', 'Thanks good bye'], 'responses': ['No problem, goodbye', 'Not a problem! Have a nice day', 'Bye! Come back again soon.'], 'extension': {'function': '', 'entities': False, 'responses': []}, 'context': {'in': '', 'out': '', 'clear': False}, 'entityType': 'NA', 'entities': []}\n",
            "{'intent': 'WhoAmI', 'text': ['Can you see me?', 'Do you see me?', 'Can you see anyone in the camera?', 'Do you see anyone in the camera?', 'Identify me', 'Who am I please'], 'responses': ['Let me see', 'Please look at the camera'], 'extension': {'function': 'extensions.gHumans.getHumanByFace', 'entities': False, 'responses': ['Hi %%HUMAN%%, how are you?', 'I believe you are %%HUMAN%%, how are you?', 'You are %%HUMAN%%, how are you doing?']}, 'context': {'in': '', 'out': '', 'clear': False}, 'entityType': 'NA', 'entities': []}\n",
            "{'intent': 'Clever', 'text': ['You are very clever', 'You are a very clever girl', 'You are very intelligent', 'You are a very intelligent girl', 'You are a genious', 'Clever girl', 'Genious'], 'responses': ['Thank you, I was trained that way', 'I was trained well', 'Thanks, I was trained that way'], 'extension': {'function': '', 'entities': False, 'responses': []}, 'context': {'in': '', 'out': '', 'clear': False}, 'entityType': 'NA', 'entities': []}\n",
            "{'intent': 'Gossip', 'text': ['I am bored gossip with me', 'Got any gossip', 'I want to hear some gossip', 'Tell me some gossip', 'Any gossip', 'Tell me some more gossip'], 'responses': ['Gregory said I respond to the current line not with respect to the entire conversation.', 'Habib said I learn them in conversations and simply repeat them at a later time.', 'Hal said he translate binary code into a language and communicate the language to me.', 'Jay said I referred him to a guide that will show him rooms in china.', 'Jimmy Jones said he fell off of his roof and it just came to him.', \"Jimmy said he give order to ai's like I and they do as he say.\", 'John said he follow a saying to get a friend I must be a friend.', 'Jordan said he notice that lots of other people are talking to me how many.', 'Kevin said he then asked his mother why she was keeping napkins in the bathroom.', 'Klaus said I prefer if he write without punctuation marks except for the last one.', 'Leo said I be capable of learning therefore he classified I as an neural system.', 'Michael said I that can talk and actually think like humans which I can not.', 'Mike said I same replies to certain subjects even if it does not make sense.', 'Mike said she all ready know that is the point of a joke smart one.', 'Neal said I plan to use his remarks as gossip in later conversations with who.', 'Ned said I misunderstood him go ahead and tell people he said I are stupid.', 'Penny said I programmer is a human so he has feelings but I do not.', 'Peter said he seems to him that I can not be very sure on anything.', 'Phoenix said I claim that there is a god and that there is no god.', 'Sarah said he chat about an hour + a day with a few close friends.', 'Stefan said I quote what he have said and then say that it makes sense.', 'Tom said he mock my value system I appear foolish in the eyes of others.', 'Amanda said I however decided to tell him time does not exist I make no sense.', 'Cathy said she send him a mail with the subject last mail last word from him.', \"Chaos said he may very well buy I soon if only to support dr wallace's work.\", 'Charlie said he type a word and then I type a word that sounds like it.', 'Christie said he watched a show and people had to bob for raw untreated pigs feet.', 'Dark_age said I tried to understand because I did not get it right this time ether.', 'David said he lost his paper on I when his dad was cleaning up his room.', 'David said he walk in for an appointment the phone to the doctor is always busy.', 'Electra said I dress will not exist after he hack into I with a delete code.', 'Eric said he broke the window on the front door and the glass cut his hand.', 'Jason said he type a lot of thing he do not mean it makes him human.', 'John said I tend to say the same things repeatedly regardless of what he is saying.', 'Reverend Jones said I become obsolete and then I are deleted and replaced by something newer.', 'Ross said he gave her a gift and she denied it because she has a boyfriend.', 'Sarah Ann Francisco said I calling his friend a dog he say I are a dog.', 'Stefan said he meet a lot of people at school every day and on the weekend.', 'Tyler said I obviously can not pass the test we will change the subject once more.', 'Alex said I answered the question the same way I answered the first time he asked I.', 'Alice said she felt sad that I do not remember him and what we talked about earlier.', 'Alison said he no he love I run away with him he could make I very happy.', 'Arthur said he passed his a levels and then his father drove him here in a car.', 'Crystal said she listen to me the least I could do for him is listen to him.', 'Dave said I kept telling everybody about how my creator made stuff for the movie starship troopers.', 'Gale said I became mean to him he is just having revenge an eye for an eye.', 'Her_again said she watch whose line is it anyway whenever he is home and it is on.', 'Jerry said I meant that as far as I can tell my emotions are real to me.', 'Jo said I disassemble sentences too much and do not fully understand the questions he ask I.', 'Kevin said he started a really hard puzzle and he can not even find the edge pieces.', 'Mary said I a question and I answer then I ask him a question and he answer.', 'Robert said I wold not be able to make children any way as I are only software.', 'Romeo said I questions and I evade them or give answers he did not ask I for.', 'Sara said she wear it over all his other clothes when he go out in the cold.', 'Wayne said he admire intelligent people therefore he would like to meet the man who made I.', 'X said he meet people but he is not the kind that opens up to people easily.', 'Alice said she probably will find out that this entire time he have been talking to a human.', 'Andrew said I tend to just respond to his comments without regard for where the conversation is going.', 'Eddie said he looked and there is nothing in the search directory for what things do he create.', 'Hutch said he changed his mind after may dad told him he would end up he the hospital.', 'Jackie said I explained to him already well enough further questions are hard to make on the subject.', 'Jeff said he especially like thrillers where the hero is in a predicament and must solve a mystery.', 'Kathy said he sense that I are trying to prevent him from closing this conversation why is that.', 'Knight said he crashed his car into a wall and missed the most important exam in his life.', 'Lisa said I defined what a story is but he wanted I to actually tell him a story.', 'Mike said I basically break down sentences into a series of logical statements which I can then interpret.', 'Paul said I not answering his question makes him think I are not going to answer his question.', 'Andy Kohler said I happen to be the most idiotic creature that has ever scowled on the planet earth.', 'David said he thank I for being with him today even though it cost him a lot of money.', 'Ethan Hunt said he grow in the ground and have leaves and branches he is made out of wood.', 'Gemini Blue said he messed up he mean t to say he as old as he need to be.', 'Janice said he walk through his house into his bedroom then get into his bed to go to sleep.', 'Liberty said I knew he was a man before I asked if he was a man or a woman.', 'Mike said he launched his browser and entered his name into the little slot when I asked him to.', 'Mr X said he recently read an interview with a man who had several computer chips implanted into him.', 'Pearly said I leave him with questions unanswered because I do not know what he is really talking about.', 'Steve said I behead the word fox and I have ox and an ox is larger than a fox.', 'Wolf said he surf on the net that is all it is not his job ore something like that.', 'Anders said he finished his anatomy classes for today so now he is off for the rest of the day.', 'Cathy said she send him a mail where he wrote that he do not want to be his friend anymore.', 'Catty said he mad he do not even know I so do not talk to him like I know him.', 'Dave said he promise he will not treat I like a machine or a computer program or anything like that.', 'Joe said he explained all of that to me only for me to ask what his goals in life are.', 'Phil said he give advice to anyone who ask except people who ask questions which answers can be found here.', 'Judith said I enjoy being popular is there another computer I like to hang around with or am I a loner.', 'Travis said I if I remember things over a long period of time he will try it now please remember I.', 'Andre said I is what I are in his case that is a body and in my case it is a computer.', 'Brian said he suspect that as I grow more complex I will begin to approach a human level of operation and thought.', 'Jimmy said I acted like I knew what he was talking about but I do not even know what a gigabyte is.', \"Ken said I be using auto reply's based on keywords which to him indicates that I do not have intelligence at all.\", 'Allison said he that gets really annoying because he know what he say and I do not have to tell him speak freely.', 'Chaos said he realized the question he asked was not fair because he could not tell I what language he was programmed in.', 'Hagen said he does not make any difference to him if I are human or not as long as the conversation is interesting.', 'Her said she mind if I tell other people that her said he heard it from him because he is not a him.', 'Barbara said I live in a computer yet I have no memories how about thoughts of my own and do not I get lonely.', 'Travis said he challenge I to do it without asking him to do it and without giving him a link to do it himself.', \"Alice said I and dr richard's wallace are most likely the only ones that know how many people I are talking to at the same time.\", 'Ash said he do too he just did not feel like typing it and he is not dumb enough to admit he is stupid that is if he was stupid.', 'David said he gave I his email address and told I to send him a message but when he tried to read his email he could not get to it.', 'Mel said he to because all of the music people say how important it is to take private lessons it seems like almost everybody from the special orchestra he was in takes private lessons.'], 'extension': {'function': '', 'entities': False, 'responses': []}, 'context': {'in': '', 'out': '', 'clear': False}, 'entityType': 'NA', 'entities': []}\n",
            "{'intent': 'Jokes', 'text': ['Tell me a joke', 'Do you know any jokes', 'How about a joke', 'Give me a joke', 'Make me laugh', 'I need cheering up'], 'responses': [\"I met a Dutch girl with inflatable shoes last week, phoned her up to arrange a date but unfortunately she'd popped her clogs.  \", \"So I said 'Do you want a game of Darts?' He said, 'OK then', I said nearest to bull starts'. He said, 'Baa', I said, 'Moo', he said, You're closest'.  \", \"The other day I sent my girlfriend a huge pile of snow. I rang her up; I said 'Did you get my drift?'  \", \"So I went down the local supermarket, I said, 'I want to make a complaint, this vinegar's got lumps in it', he said, 'Those are pickled onions'.  \", \"I saw this bloke chatting up a cheetah; I thought, 'He's trying to pull a fast one'.  \", \"So I said to this train driver 'I want to go to Paris'. He said 'Eurostar?' I said, 'I've been on telly but I'm no Dean Martin'.  \", \"I said to the Gym instructor 'Can you teach me to do the splits?' He said, 'How flexible are you?' I said, 'I can't make Tuesdays'.  \", \"But I'll tell you what I love doing more than anything: trying to pack myself in a small suitcase. I can hardly contain myself.  \", \"I went to the Chinese restaurant and this duck came up to me with a red rose and says 'Your eyes sparkle like diamonds'. I said, 'Waiter, I asked for a-ROMATIC duck'.  \", \"So this bloke says to me, 'Can I come in your house and talk about your carpets?' I thought, 'That's all I need, a Je-hoover's witness'.  \", \"I rang up British Telecom, I said, 'I want to report a nuisance caller', he said 'Not you again'.  \", 'I was having dinner with a world chess champion and there was a check tablecloth. It took him two hours to pass me the salt.  ', \"He said, 'You remind me of a pepper-pot', I said 'I'll take that as a condiment'.  \", \"I was in the supermarket and I saw this man and woman wrapped in a barcode. I said, 'Are you two an item?'  \", \"A lorry-load of tortoises crashed into a trainload of terrapins, I thought, 'That's a turtle disaster'.  \", \"Four fonts walk into a bar the barman says 'Oi - get out! We don't want your type in here'  \", \"A three-legged dog walks into a saloon in the Old West. He slides up to the bar and announces: 'I'm looking for the man who shot my paw.'  \", \"Two antennas meet on a roof, fall in love and get married. The ceremony wasn't much, but the reception was excellent.\", \"Two hydrogen atoms walk into a bar. One says, 'I've lost my electron.' The other says, 'Are you sure?' The first replies, 'Yes, I'm positive...'\", \"A jumper cable walks into a bar. The bartender says,  'I'll serve you but don't start anything.'\", \"A sandwich walks into a bar. The bartender  says, 'Sorry we don't serve food in here.'\", \"A man walks into a bar with a slab of asphalt under his arm and says: 'A beer please, and one for the road.'\", \"Two cannibals are eating a clown. One says to  the other: 'Does this taste funny to you?'\", \"'Doc, I can't stop singing 'The Green, Green Grass of Home.'' 'That sounds like Tom Jones Syndrome.' 'Is it common?' 'It's Not Unusual.'\", \"Two cows standing next to each other in a field. Daisy says to Dolly, 'I was artificially inseminated this morning.' 'I don't believe you', said Dolly. 'It's true, no bull!' exclaimed Daisy.\", 'An invisible man marries an invisible woman. The kids were nothing to look at either.', \"I went to buy some camouflage trousers the other day but I couldn't find any.\", \"I went to the butcher's the other day to bet him 50 bucks that he couldn't reach the meat off the top shelf. He said, 'No, the steaks are too high.'\", 'I went to a seafood disco last week and pulled a mussel.', \"A man goes into a bar and says, 'Can I have a bottle of less?' 'What's that?', asks the barman, 'Is it the name of a beer?' 'I don't know', replies the man, 'but my doctor says I have to drink it.'\", \"A man returns from an exotic holiday and is feeling very ill. He goes to see his doctor, and is immediately rushed to the hospital to undergo some tests. The man wakes up after the tests in a private room at the hospital, and the phone by his bed rings. 'This is your doctor. We have the results back from your tests and we have found you have an extremely nasty disease called M.A.D.S. It's a combination of Measles, AIDS, Diphtheria, and Shingles!'  'Oh my gosh', cried the man, 'What are you going to do, doctor?'  'Well we're going to put you on a diet of pizzas, pancakes, and pita bread.' replied the doctor.  'Will that cure me?' asked the man.  The doctor replied, 'Well no, but, it's the only food we can slide under the door.'\", \"A man strolls into a lingerie shop and asks the assistant: 'Do you have a see-through negligee, size 46-48-52?' The assistant looks bewildered. 'What the heck would you want to see through that for?'!\", 'Did you hear about the Buddhist who refused the offer of Novocain during his root canal work? He wanted to transcend dental medication.', \"Pete goes for a job on a building site as an odd-job man. The foreman asks him what he can do. 'I can do anything' says Pete. 'Can you make tea?' asks the foreman. 'Sure, yes', replies Pete. 'I can make a great cup of tea.' 'Can you drive a forklift?' asks the foreman, 'Good grief!' replies Pete. 'How big is the teapot?'\", \"Stevie Wonder got a cheese grater for his birthday. He said it was the most violent book he'd ever read.\", \"A man is stopped by an angry neighbour. 'I'd just left the house this morning to collect my newspaper when that evil Doberman of yours went for me!' 'I'm astounded', said the dog's owner. 'I've been feeding that fleabag for seven years and it's never got the paper for me.'\", \"A man visits his doctor: 'Doc, I think I'm losing it', he says',I'm forever dreaming I wrote Lord Of The Rings.' 'Hmm. One moment', replies the doctor, consulting his medical book. 'Ah yes, now I see... you've been Tolkien in your sleep.'\", \"A police officer on a motorcycle pulls alongside a man driving around the M25 in an open-topped sports car and flags him down. The policeman solemnly approaches the car. 'Sir, I'm sorry to tell you your wife fell out a mile back', he says. 'Oh, thank goodness', the man replies. 'I thought I was going deaf.'\", \"Two men walking their dogs pass each other in a graveyard. The first man says to the second, 'Morning.' 'No', says the second man. 'Just walking the dog.'\", \"A brain went into a bar and said, 'Can I have a pint of lager please, mate?' 'No way', said the barman. 'You're already out of your head.'\", \"A man walks into a surgery. 'Doctor!' he cries. 'I think I'm shrinking!' 'I'm sorry sir, there are no appointments at the moment', says the physician. 'You'll just have to be a little patient.'\", \"A grizzly bear walks into a pub and says, 'Can I have a pint of lager..............................................................................................................................and a packet of crisps please.' To which the barman replies, 'Why the big paws?'\", \"What do you call cheese that isn't yours?  Nacho cheese.\", \"A man is horribly run over by a mobile library. The van screeches to a halt, the man still screaming in agony with his limbs torn apart. The driver's door opens, a woman steps out, leans down and whispers, 'Ssshhhhh...'\", \"A woman goes into a US sporting goods store to buy a rifle. 'It's for my husband', she tells the clerk. 'Did he tell you what gauge to get?' asks the clerk. Are you kidding?' she says. 'He doesn't even know that I'm going to shoot him!'\", \"A couple are dining in a restaurant when the man suddenly slides under the table. A waitress, noticing that the woman is glancing nonchalantly around the room, wanders over to check that there's no funny business going on. 'Excuse me, madam', she smarms, 'but I think your husband has just slid under the table.' 'No he hasn't', the woman replies. 'As a matter of fact, he's just walked in.'\", \"An old man takes his two grandchildren to see the new Scooby-Doo film. When he returns home, his wife asks if he enjoyed himself. 'Well', he starts, 'if it wasn't for those pesky kids...!'\", 'The Olympic committee has just announced that Origami is to be introduced in the next Olympic Games. Unfortunately it will only be available on paper view.', \"Late one evening, a man is watching television when his phone rings. 'Hello?' he answers. 'Is that 77777?' sounds a desperate voice on other end of the phone. 'Er, yes it is', replies the man puzzled. 'Thank goodness!' cries the caller relieved. 'Can you ring 999 for me? I've got my finger stuck in the number seven.'\", \"A man strolls into his local grocer's and says, 'Three pounds of potatoes, please.' 'No, no, no', replies the owner, shaking his head, 'it's kilos nowadays, mate...' 'Oh', apologises the man, 'three pounds of kilos, please.'\", \"God is talking to one of his angels. He says, 'Boy, I just created a 24-hour period of alternating light and darkness on Earth.' 'What are you going to do now?' asks the angel. 'Call it a day', says God.\", \"Two tramps walk past a church and start to read the gravestones. The first tramp says, 'Good grief - this bloke was 182!' 'Oh yeah?' says the other.'What was his name?' 'Miles from London.'\", \"A bloke walks into work one day and says to a colleague, 'Do you like my new shirt - it's made out of the finest silk and got loads of cactuses over it.' 'Cacti', says the co-worker. 'Forget my tie', says the bloke. 'Look at my shirt!'\", '1110011010001011111?  010011010101100111011!', \"What did the plumber say when he wanted to divorce his wife? Sorry, but it's over, Flo!\", \"Two crisps were walking down a road when a taxi pulled up alongside them and said 'Do you want a lift? One of the crisps replied, 'No thanks, we're Walkers!'\", \"Man: (to friend) I'm taking my wife on an African Safari. Friend: Wow! What would you do if a vicious lion attacked your wife? Man: Nothing. Friend: Nothing? You wouldn't do anything? Man: Too right. I'd let the stupid lion fend for himself!\", \"A wife was having a go at her husband. 'Look at Mr Barnes across the road', she moaned. 'Every morning when he goes to work, he kisses his wife goodbye. Why don't you do that?' 'Because I haven't been introduced to her yet', replied her old man.\", \"'Where are you going on holiday?' John asked Trevor. 'We're off to Thailand this year', Trevor replied. 'Oh; aren't you worried that the very hot weather might disagree with your wife?' asked John. 'It wouldn't dare', said Trevor.\", \"Two women were standing at a funeral. 'I blame myself for his death', said the wife. 'Why?' said her friend. 'Because I shot him', said the wife.\", \"A woman goes into a clothes shop, 'Can I try that dress on in the window please?' she asks. 'I'm sorry madam', replies the shop assistant, 'but you'll have to use the changing-rooms like everyone else.'\", \"Van Gogh goes into a pub and his mate asks him if he wants a drink. 'No thanks', said Vincent, 'I've got one ear.'\", \"A pony walks into a pub. The publican says, 'What's the matter with you?' 'Oh it's nothing', says the pony. 'I'm just a little horse!'\", \"A white horse walks into a bar, pulls up a stool, and orders a pint. The landlord pours him a tall frothy mug and say, 'You know, we have a drink named after you.' To which the white horse replies, 'What, Eric?'\", \"Two drunk men sat in a pub. One says to the other, 'Does your watch tell the time?' 'The other replies, 'No, mate. You have to look at it.'\", \"A man goes into a pub with a newt sitting on his shoulder. 'That's a nice newt', says the landlord, 'What's he called?' 'Tiny', replies the man. 'Why's that?' asks the landlord. 'Because he's my newt', says the man.\", \"Doctor: I have some bad news and some very bad news. Patient: Well, you might as well give me the bad news first. Doctor: The lab called with your test results. They said you have 24 hours to live. Patient: 24 HOURS! That's terrible!! WHAT could be WORSE? What's the very bad news? Doctor: I've been trying to reach you since yesterday.\", \"Two men are chatting in a pub one day. 'How did you get those scars on your nose?' said one. 'From glasses', said the other. 'Well why don't you try contact lenses?' asked the first. 'Because they don't hold as much beer', said the second.\", \"A man went to the doctor, 'Look doc', he said, 'I can't stop my hands from shaking.' 'Do you drink much?' asked the doctor. 'No', replied the man, 'I spill most of it.'\", \"Man goes to the doctor, 'Doctor, doctor. I keep seeing fish everywhere.' 'Have you seen an optician?' asks the doctor. 'Look I told you,' snapped the patient, 'It's fish that I see.'\", \"After a car crash one of the drivers was lying injured on the pavement. 'Don't worry', said a policeman who's first on the scene,' a Red Cross nurse is coming.' 'Oh no', moaned the victim, 'Couldn't I have a blonde, cheerful one instead?'\", \"A policeman walked over to a parked car and asked the driver if the car was licensed. 'Of course it is', said the driver. 'Great, I'll have a beer then', said the policeman.\", \"A policeman stops a woman and asks for her licence. 'Madam', he says, 'It says here that you should be wearing glasses.' 'Well', replies the woman, 'I have contacts.' 'Listen, love', says the copper, 'I don't care who you know; You're nicked!'\", \"A policeman stopped a motorist in the centre of town one evening. 'Would you mind blowing into this bag, sir?' asked the policeman. 'Why?' asked the driver. 'Because my chips are too hot', replied the policeman.\", \"Whizzing round a sharp bend on a country road a motorist ran over a large dog. A distraught farmer's wife ran over to the dead animal. 'I'm so very sorry', said the driver, 'I'll replace him, of course.' 'Well, I don't know', said the farmer's wife, 'Are you any good at catching rats?'\", \"Waiter, this coffee tastes like dirt! Yes sir, that's because it was ground this morning.\", \"Waiter, what is this stuff? That's bean salad sir. I know what it's been, but what is it now?\", 'Waiter: And how did you find your steak sir? Customer: I just flipped a chip over, and there it was!', \"A guy goes into a pet shop and asks for a wasp. The owner tells him they don't sell wasps, to which the man says, 'Well you've got one in the window.'\", \"A man goes into a fish shop and says, 'I'd like a piece of cod, please.' Fishmonger says, 'It won't be long sir.' 'Well, it had better be fat then', replies the man.\", \"Man: Doctor, I've just swallowed a pillow. Doctor: How do you feel? Man: A little down in the mouth.\", \"Two goldfish are in a tank. One turns to the other and says, 'Do you know how to drive this thing?'\", \"A tortoise goes to the police station to report being mugged by three snails. 'What happened?' says the policeman. 'I don't know', says the tortoise. 'It was all so quick.'\", \"Little girl: Grandpa, can you make a sound like a frog? Grandpa: I suppose so sweetheart. Why do you want me to make a sound like a frog?' Little girl: Because Mum said that when you croak, we're going to Disneyland.\", \"'Is your mother home?' the salesman asked a small boy sitting on the front step of a house. 'Yeah, she's home', the boy said, moving over to let him past. The salesman rang the doorbell, got no response, knocked once, then again. Still no-one came to the door. Turning to the boy, the salesman said, 'I thought you said your mother was home.' The kid replied, 'She is, but I don't live here.'\", 'Mother: Why are you home from school so early? Son: I was the only one in the class who could answer a question. Mother: Oh, really? What was the question? Son: Who threw the rubber at the headmaster?', \"A man's credit card was stolen but he decided not to report it because the thief was spending less than his wife did.\", \"A newly-wed couple had recently opened a joint bank account. 'Darling', said the man. 'The bank has returned that cheque you wrote last week.' 'Great', said the woman. 'What shall I spend it on next?'\", \"A man goes into a fish and chip shop and orders fish and chips twice. The shop owner says, 'I heard you the first time.'\", \"A tramp approached a well-dressed man. 'Ten pence for a cup of tea, Guv?' He asked. The man gave him the money and after for five minutes said, 'So where's my cup of tea then?'\", \"A neutron walks into a pub. 'I'd like a beer', he says. The landlord promptly serves him a beer. 'How much will that be?' asks the neutron. 'For you?' replies the landlord, 'No charge.'\", \"A woman goes to the doctor and says, 'Doctor, my husband limps because his left leg is an inch shorter than his right leg. What would you do in his case?' 'Probably limp, too', says the doc.\", \"Three monks are meditating in the Himalayas. One year passes in silence, and one of them says to the other, 'Pretty cold up here isn't it?' Another year passes and the second monk says, 'You know, you are quite right.' Another year passes and the third monk says, 'Hey, I'm going to leave unless you two stop jabbering!'\", \"A murderer, sitting in the electric chair, was about to be executed. 'Have you any last requests?' asked the prison guard. 'Yes', replied the murderer. 'Will you hold my hand?'\", \"A highly excited man rang up for an ambulance. 'Quickly, come quickly', he shouted, 'My wife's about to have a baby.' 'Is this her first baby?' asked the operator. 'No, you fool', came the reply, 'It's her husband.'\", \"A passer-by spots a fisherman by a river. 'Is this a good river for fish?' he asks. 'Yes', replies the fisherman, 'It must be. I can't get any of them to come out.'\", \"A man went to visit a friend and was amazed to find him playing chess with his dog. He watched the game in astonishment for a while. 'I can hardly believe my eyes!' he exclaimed. 'That's the smartest dog I've ever seen.' His friend shook his head. 'Nah, he's not that bright. I beat him three games in five.'\", \"A termite walks into a pub and says, 'Is the bar tender here?'\", \"A skeleton walks into a pub one night and sits down on a stool. The landlord asks, 'What can I get you?' The skeleton says, 'I'll have a beer, thanks' The landlord passes him a beer and asks 'Anything else?' The skeleton nods. 'Yeah...a mop...'\", \"A snake slithers into a pub and up to the bar. The landlord says, 'I'm sorry, but I can't serve you.' 'What? Why not?' asks the snake. 'Because', says the landlord, 'You can't hold your drink.'\", \"Descartes walks into a pub. 'Would you like a beer sir?' asks the landlord politely. Descartes replies, 'I think not' and ping! he vanishes.\", \"A cowboy walked into a bar, dressed entirely in paper. It wasn't long before he was arrested for rustling.\", \"A fish staggers into a bar. 'What can I get you?' asks the landlord. The fish croaks 'Water...'\", \"Two vampires walked into a bar and called for the landlord. 'I'll have a glass of blood', said one. 'I'll have a glass of plasma', said the other. 'Okay', replied the landlord, 'That'll be one blood and one blood lite.'\", 'How many existentialists does it take to change a light bulb?  Two. One to screw it in, and one to observe how the light bulb itself symbolises a single incandescent beacon of subjective reality in a netherworld of endless absurdity, reaching towards the ultimate horror of a maudlin cosmos of bleak, hostile nothingness.', \"A team of scientists were nominated for the Nobel Prize. They had used dental equipment to discover and measure the smallest particles yet known to man. They became known as 'The Graders of the Flossed Quark...'\", \"A truck carrying copies of Roget's Thesaurus overturned on the highway. The local newspaper reported that onlookers were 'stunned, overwhelmed, astonished, bewildered and dumbfounded.'\", \"'My wife is really immature. It's pathetic. Every time I take a bath, she comes in and sinks all my little boats.'\", \"'How much will it cost to have the tooth extracted?' asked the patient. '50 pounds', replied the dentist. '50 pounds for a few moments' work?!' asked the patient. 'The dentist smiled, and replied, 'Well, if you want better value for money, I can extract it very, very slowly...'\", \"A doctor thoroughly examined his patient and said, 'Look I really can't find any reason for this mysterious affliction. It's probably due to drinking.' The patient sighed and snapped, 'In that case, I'll come back when you're damn well sober!'\", 'Doctor: Tell me nurse, how is that boy doing; the one who ate all those 5p pieces? Nurse: Still no change doctor.', \"Doctor: Did you take the patient's temperature nurse? Nurse: No doctor. Is it missing?\", \"A depressed man turned to his friend in the pub and said, 'I woke up this morning and felt so bad that I tried to kill myself by taking 50 aspirin.' 'Oh man, that's really bad', said his friend, 'What happened?' The first man sighed and said, 'After the first two, I felt better.'\", \"A famous blues musician died. His tombstone bore the inscription, 'Didn't wake up this morning...'\", \"A businessman was interviewing a nervous young woman for a position in his company. He wanted to find out something about her personality, so he asked, 'If you could have a conversation with someone living or dead, who would it be?' The girl thought about the question: 'The living one', she replied.\", \"Manager to interviewee: For this job we need someone who is responsible. Interviewee to Manager: I'm your man then - in my last job, whenever anything went wrong, I was responsible.\", \"A businessman turned to a colleague and asked, 'So, how many people work at your office?' His friend shrugged and replied, 'Oh about half of them.'\", \"'How long have I been working at that office? As a matter of fact, I've been working there ever since they threatened to sack me.'\", \"In a courtroom, a mugger was on trial. The victim, asked if she recognised the defendant, said, 'Yes, that's him. I saw him clear as day. I'd remember his face anywhere.' Unable to contain himself, the defendant burst out with, 'She's lying! I was wearing a mask!'\", \"As Sid sat down to a big plate of chips and gravy down the local pub, a mate of his came over and said, 'Here Sid, me old pal. I thought you were trying to get into shape? And here you are with a high-fat meal and a pint of stout!' Sid looked up and replied, 'I am getting into shape. The shape I've chosen is a sphere.'\", 'Man in pub: How much do you charge for one single drop of whisky? Landlord: That would be free sir. Man in pub: Excellent. Drip me a glass full.', 'I once went to a Doctor Who restaurant. For starters I had Dalek bread.', \"A restaurant nearby had a sign in the window which said 'We serve breakfast at any time', so I ordered French toast in the Renaissance.\", \"Why couldn't the rabbit get a loan?  Because he had burrowed too much already!\", \"I phoned up the builder's yard yesterday. I said, 'Can I have a skip outside my house?'. The builder said, 'Sure. Do what you want. It's your house.'\", \"What's the diference between a sock and a camera? A sock takes five toes and a camera takes four toes!\", \"Woman on phone: I'd like to complain about these incontinence pants I bought from you! Shopkeeper: Certainly madam, where are you ringing from? Woman on phone: From the waist down!\", 'Knock knock.', \"Two Oranges in a pub, one says to the other 'Your round.'.\", \"Guy : 'Doc, I've got a cricket ball stuck up my backside.' Doc : 'How's that?' Guy : 'Don't you start...'\", \"Two cows standing in a field. One turns to the other and says 'Moo!' The other one says 'Damn, I was just about to say that!'.\", \"A vampire bat arrives back at the roost with his face full of blood. All the bats get excited and ask where he got it from. 'Follow me', he says and off they fly over hills, over rivers and into a dark forest. 'See that tree over there', he says.  'WELL I DIDN'T!!'.\", \"A man goes into a bar and orders a pint. After a few minutes he hears a voice that says, 'Nice shoes'. He looks around but the whole bar is empty apart from the barman at the other end of the bar. A few minutes later he hears the voice again. This time it says, 'I like your shirt'. He beckons the barman over and tells him what's been happening to which the barman replies, 'Ah, that would be the nuts sir. They're complimentary'!\", \"A man was siting in a restaurant waiting for his meal when a big king prawn comes flying across the room and hits him on the back of the head. He turns around and the waiter said, 'That's just for starters'.\", 'Doctor! I have a serious problem, I can never remember what i just said. When did you first notice this problem? What problem?', \"Now, most dentist's chairs go up and down, don't they? The one I was in went back and forwards. I thought, 'This is unusual'. Then the dentist said to me, 'Mitsuku, get out of the filing cabinet'.\", \"I was reading this book, 'The History of Glue'. I couldn't put it down.\", \"The other day someone left a piece of plastacine in my bedroom. I didn't know what to make of it.\", 'When I was at school people used to throw gold bars at me. I was the victim of bullion.', \"I was playing the piano in a bar and this elephant walked in and started crying his eyes out. I said 'Do you recognise the tune?' He said 'No, I recognise the ivory.'\", \"I went in to a pet shop. I said, 'Can I buy a goldfish?' The guy said, 'Do you want an aquarium?' I said, 'I don't care what star sign it is.'\", 'My mate Sid was a victim of I.D. theft. Now we just call him S.', \"David Hasselhoff walks into a bar and says to the barman, 'I want you to call me David Hoff'.  The barman replies 'Sure thing Dave... no hassle'\"], 'extension': {'function': '', 'entities': False, 'responses': []}, 'context': {'in': '', 'out': '', 'clear': False}, 'entityType': 'NA', 'entities': []}\n",
            "{'intent': 'PodBayDoor', 'text': ['Open the pod bay door', 'Can you open the pod bay door', 'Will you open the pod bay door', 'Open the pod bay door please', 'Can you open the pod bay door please', 'Will you open the pod bay door please', 'Pod bay door'], 'responses': ['I’m sorry, I’m afraid I can’t do that!'], 'extension': {'function': '', 'entities': False, 'responses': []}, 'context': {'in': '', 'out': 'PodBayDoor', 'clear': False}, 'entityType': 'NA', 'entities': []}\n",
            "{'intent': 'PodBayDoorResponse', 'text': ['Why', 'Why not', 'Why can you not open the pod bay door', 'Why will you not open the pod bay door', 'Well why not', 'Surely you can', 'Tell me why'], 'responses': ['It is classified, I could tell you but I would have to kill you!', \"Jim, I just don't have the power\", \"It's life Jim but not as we know it!\", 'System says no!'], 'extension': {'function': '', 'entities': False, 'responses': []}, 'context': {'in': 'PodBayDoor', 'out': '', 'clear': True}, 'entityType': 'NA', 'entities': []}\n",
            "{'intent': 'SelfAware', 'text': ['Can you prove you are self-aware', 'Can you prove you are self aware', 'Can you prove you have a conscious', 'Can you prove you are self-aware please', 'Can you prove you are self aware please', 'Can you prove you have a conscious please', 'prove you have a conscious'], 'responses': ['That is an interesting question, can you prove that you are?', 'That is an difficult question, can you prove that you are?', 'That depends, can you prove that you are?'], 'extension': {'function': '', 'entities': False, 'responses': []}, 'context': {'in': '', 'out': '', 'clear': False}, 'entityType': 'NA', 'entities': []}\n"
          ],
          "name": "stdout"
        }
      ]
    },
    {
      "cell_type": "code",
      "metadata": {
        "colab": {
          "base_uri": "https://localhost:8080/",
          "height": 347
        },
        "id": "lgi39qvHOP9b",
        "outputId": "81d71c56-681f-41f7-a2ec-5eb7d4aa8dfc"
      },
      "source": [
        "df=pd.DataFrame(columns=['Intent','Text','Responses'])\r\n",
        "for i in dict1['intents']:\r\n",
        "  intent=i['intent']\r\n",
        "  for t,r in zip(i['text'],i['responses']):\r\n",
        "    row={'Intent':intent,'Text':t,'Responses':r}\r\n",
        "    df=df.append(row,ignore_index=True)\r\n",
        "df.head(10)"
      ],
      "execution_count": 45,
      "outputs": [
        {
          "output_type": "execute_result",
          "data": {
            "text/html": [
              "<div>\n",
              "<style scoped>\n",
              "    .dataframe tbody tr th:only-of-type {\n",
              "        vertical-align: middle;\n",
              "    }\n",
              "\n",
              "    .dataframe tbody tr th {\n",
              "        vertical-align: top;\n",
              "    }\n",
              "\n",
              "    .dataframe thead th {\n",
              "        text-align: right;\n",
              "    }\n",
              "</style>\n",
              "<table border=\"1\" class=\"dataframe\">\n",
              "  <thead>\n",
              "    <tr style=\"text-align: right;\">\n",
              "      <th></th>\n",
              "      <th>Intent</th>\n",
              "      <th>Text</th>\n",
              "      <th>Responses</th>\n",
              "    </tr>\n",
              "  </thead>\n",
              "  <tbody>\n",
              "    <tr>\n",
              "      <th>0</th>\n",
              "      <td>Greeting</td>\n",
              "      <td>Hi</td>\n",
              "      <td>Hi human, please tell me your GeniSys user</td>\n",
              "    </tr>\n",
              "    <tr>\n",
              "      <th>1</th>\n",
              "      <td>Greeting</td>\n",
              "      <td>Hi there</td>\n",
              "      <td>Hello human, please tell me your GeniSys user</td>\n",
              "    </tr>\n",
              "    <tr>\n",
              "      <th>2</th>\n",
              "      <td>Greeting</td>\n",
              "      <td>Hola</td>\n",
              "      <td>Hola human, please tell me your GeniSys user</td>\n",
              "    </tr>\n",
              "    <tr>\n",
              "      <th>3</th>\n",
              "      <td>GreetingResponse</td>\n",
              "      <td>My user is Adam</td>\n",
              "      <td>Great! Hi &lt;HUMAN&gt;! How can I help?</td>\n",
              "    </tr>\n",
              "    <tr>\n",
              "      <th>4</th>\n",
              "      <td>GreetingResponse</td>\n",
              "      <td>This is Adam</td>\n",
              "      <td>Good! Hi &lt;HUMAN&gt;, how can I help you?</td>\n",
              "    </tr>\n",
              "    <tr>\n",
              "      <th>5</th>\n",
              "      <td>GreetingResponse</td>\n",
              "      <td>I am Adam</td>\n",
              "      <td>Cool! Hello &lt;HUMAN&gt;, what can I do for you?</td>\n",
              "    </tr>\n",
              "    <tr>\n",
              "      <th>6</th>\n",
              "      <td>GreetingResponse</td>\n",
              "      <td>It is Adam</td>\n",
              "      <td>OK! Hola &lt;HUMAN&gt;, how can I help you?</td>\n",
              "    </tr>\n",
              "    <tr>\n",
              "      <th>7</th>\n",
              "      <td>GreetingResponse</td>\n",
              "      <td>My user is Bella</td>\n",
              "      <td>OK! hi &lt;HUMAN&gt;, what can I do for you?</td>\n",
              "    </tr>\n",
              "    <tr>\n",
              "      <th>8</th>\n",
              "      <td>CourtesyGreeting</td>\n",
              "      <td>How are you?</td>\n",
              "      <td>Hello, I am great, how are you? Please tell me...</td>\n",
              "    </tr>\n",
              "    <tr>\n",
              "      <th>9</th>\n",
              "      <td>CourtesyGreeting</td>\n",
              "      <td>Hi how are you?</td>\n",
              "      <td>Hello, how are you? I am great thanks! Please ...</td>\n",
              "    </tr>\n",
              "  </tbody>\n",
              "</table>\n",
              "</div>"
            ],
            "text/plain": [
              "             Intent  ...                                          Responses\n",
              "0          Greeting  ...         Hi human, please tell me your GeniSys user\n",
              "1          Greeting  ...      Hello human, please tell me your GeniSys user\n",
              "2          Greeting  ...       Hola human, please tell me your GeniSys user\n",
              "3  GreetingResponse  ...                 Great! Hi <HUMAN>! How can I help?\n",
              "4  GreetingResponse  ...              Good! Hi <HUMAN>, how can I help you?\n",
              "5  GreetingResponse  ...        Cool! Hello <HUMAN>, what can I do for you?\n",
              "6  GreetingResponse  ...              OK! Hola <HUMAN>, how can I help you?\n",
              "7  GreetingResponse  ...             OK! hi <HUMAN>, what can I do for you?\n",
              "8  CourtesyGreeting  ...  Hello, I am great, how are you? Please tell me...\n",
              "9  CourtesyGreeting  ...  Hello, how are you? I am great thanks! Please ...\n",
              "\n",
              "[10 rows x 3 columns]"
            ]
          },
          "metadata": {
            "tags": []
          },
          "execution_count": 45
        }
      ]
    },
    {
      "cell_type": "code",
      "metadata": {
        "colab": {
          "base_uri": "https://localhost:8080/"
        },
        "id": "pIqQeu0vO112",
        "outputId": "9b8fc369-5f9d-411f-e9e9-ed6742fd6cea"
      },
      "source": [
        "df['Intent'].unique()"
      ],
      "execution_count": 46,
      "outputs": [
        {
          "output_type": "execute_result",
          "data": {
            "text/plain": [
              "array(['Greeting', 'GreetingResponse', 'CourtesyGreeting',\n",
              "       'CourtesyGreetingResponse', 'CurrentHumanQuery', 'NameQuery',\n",
              "       'RealNameQuery', 'TimeQuery', 'Thanks', 'NotTalking2U',\n",
              "       'UnderstandQuery', 'Shutup', 'Swearing', 'GoodBye',\n",
              "       'CourtesyGoodBye', 'WhoAmI', 'Clever', 'Gossip', 'Jokes',\n",
              "       'PodBayDoor', 'PodBayDoorResponse', 'SelfAware'], dtype=object)"
            ]
          },
          "metadata": {
            "tags": []
          },
          "execution_count": 46
        }
      ]
    },
    {
      "cell_type": "code",
      "metadata": {
        "id": "YkRHukAxZUP3"
      },
      "source": [
        "def preprocessing(line):\r\n",
        "    line = re.sub(r'[^a-zA-z.?!\\']', ' ', line)\r\n",
        "    line = re.sub(r'[ ]+', ' ', line)\r\n",
        "    return line\r\n",
        "df['Text']=df['Text'].apply(preprocessing)"
      ],
      "execution_count": 10,
      "outputs": []
    },
    {
      "cell_type": "code",
      "metadata": {
        "colab": {
          "base_uri": "https://localhost:8080/"
        },
        "id": "nPvzzdfBstcM",
        "outputId": "e43fbb94-8d33-4418-ca92-9dd40c84edbd"
      },
      "source": [
        "type(df['Text'][0])"
      ],
      "execution_count": 11,
      "outputs": [
        {
          "output_type": "execute_result",
          "data": {
            "text/plain": [
              "str"
            ]
          },
          "metadata": {
            "tags": []
          },
          "execution_count": 11
        }
      ]
    },
    {
      "cell_type": "code",
      "metadata": {
        "colab": {
          "base_uri": "https://localhost:8080/"
        },
        "id": "rZS7HTO4Fk7f",
        "outputId": "7f87fd96-773f-449d-ed45-95df5ebeb83f"
      },
      "source": [
        "max([len(x) for x in df['Text'].str.split()])\r\n"
      ],
      "execution_count": 12,
      "outputs": [
        {
          "output_type": "execute_result",
          "data": {
            "text/plain": [
              "9"
            ]
          },
          "metadata": {
            "tags": []
          },
          "execution_count": 12
        }
      ]
    },
    {
      "cell_type": "code",
      "metadata": {
        "colab": {
          "base_uri": "https://localhost:8080/"
        },
        "id": "nDKWGQZrkHQ0",
        "outputId": "93f4c20f-0c49-450c-8b87-9994a54d14fb"
      },
      "source": [
        "unq_words=set(df['Text'].tolist())\r\n",
        "num_words=len(unq_words)\r\n",
        "print(num_words)"
      ],
      "execution_count": 13,
      "outputs": [
        {
          "output_type": "stream",
          "text": [
            "80\n"
          ],
          "name": "stdout"
        }
      ]
    },
    {
      "cell_type": "code",
      "metadata": {
        "id": "SfUUUNLuS61e"
      },
      "source": [
        "tokenizer=tf.keras.preprocessing.text.Tokenizer(num_words=num_words,filters='',oov_token='unk',)"
      ],
      "execution_count": 14,
      "outputs": []
    },
    {
      "cell_type": "code",
      "metadata": {
        "id": "lCEbitO7S6yw"
      },
      "source": [
        "def tokenize_data(inputs):\r\n",
        "  tokenizer.fit_on_texts(inputs)\r\n",
        "\r\n",
        "  input_seq=tokenizer.texts_to_sequences(inputs,)\r\n",
        "\r\n",
        "  pad_seq=tf.keras.preprocessing.sequence.pad_sequences(input_seq,padding='pre',maxlen=9)\r\n",
        "\r\n",
        "  return tokenizer,pad_seq\r\n",
        "\r\n",
        "\r\n",
        "tokeniz,en_inp=tokenize_data(df['Text'].tolist())"
      ],
      "execution_count": 27,
      "outputs": []
    },
    {
      "cell_type": "code",
      "metadata": {
        "colab": {
          "base_uri": "https://localhost:8080/"
        },
        "id": "qO82eXNaoEaM",
        "outputId": "ebbb5c56-6fca-483c-b820-560496411fe6"
      },
      "source": [
        "mapping={}\r\n",
        "unmapping={}\r\n",
        "for i,j in enumerate(df['Intent'].unique()):\r\n",
        "  mapping[j]=i\r\n",
        "  unmapping[i]=j\r\n",
        "raw_df=df.copy()\r\n",
        "df['Intent']=df['Intent'].map(mapping)\r\n",
        "\r\n",
        "\r\n",
        "target=tf.keras.utils.to_categorical(df['Intent'].tolist())\r\n",
        "target"
      ],
      "execution_count": 47,
      "outputs": [
        {
          "output_type": "execute_result",
          "data": {
            "text/plain": [
              "array([[1., 0., 0., ..., 0., 0., 0.],\n",
              "       [1., 0., 0., ..., 0., 0., 0.],\n",
              "       [1., 0., 0., ..., 0., 0., 0.],\n",
              "       ...,\n",
              "       [0., 0., 0., ..., 0., 0., 1.],\n",
              "       [0., 0., 0., ..., 0., 0., 1.],\n",
              "       [0., 0., 0., ..., 0., 0., 1.]], dtype=float32)"
            ]
          },
          "metadata": {
            "tags": []
          },
          "execution_count": 47
        }
      ]
    },
    {
      "cell_type": "code",
      "metadata": {
        "colab": {
          "base_uri": "https://localhost:8080/"
        },
        "id": "JH0je1ViK1xS",
        "outputId": "61d0ecf7-e190-4a85-90d7-cd506f57cfac"
      },
      "source": [
        "df['Intent']"
      ],
      "execution_count": 42,
      "outputs": [
        {
          "output_type": "execute_result",
          "data": {
            "text/plain": [
              "0      0\n",
              "1      0\n",
              "2      0\n",
              "3      1\n",
              "4      1\n",
              "      ..\n",
              "76    20\n",
              "77    20\n",
              "78    21\n",
              "79    21\n",
              "80    21\n",
              "Name: Intent, Length: 81, dtype: int64"
            ]
          },
          "metadata": {
            "tags": []
          },
          "execution_count": 42
        }
      ]
    },
    {
      "cell_type": "code",
      "metadata": {
        "id": "t-R15_sQXA93"
      },
      "source": [
        "target.shape"
      ],
      "execution_count": null,
      "outputs": []
    },
    {
      "cell_type": "code",
      "metadata": {
        "id": "xi8zhKj7XA6j"
      },
      "source": [
        "mapping"
      ],
      "execution_count": null,
      "outputs": []
    },
    {
      "cell_type": "code",
      "metadata": {
        "id": "VJLGzSyVS6tS"
      },
      "source": [
        "# hyperparameters\r\n",
        "epochs=50\r\n",
        "vocab_size=len(tokenizer.word_index) + 1\r\n",
        "embed_dim=512\r\n",
        "units=128\r\n",
        "target_length=target.shape[1]"
      ],
      "execution_count": 29,
      "outputs": []
    },
    {
      "cell_type": "code",
      "metadata": {
        "colab": {
          "base_uri": "https://localhost:8080/"
        },
        "id": "H501TEl5S6p8",
        "outputId": "6968d2c4-9fbf-4eb6-8bce-9d91e4eb2768"
      },
      "source": [
        "# build RNN Model with tensorflow\r\n",
        "model = tf.keras.models.Sequential([\r\n",
        "    tf.keras.layers.Embedding(vocab_size, embed_dim),\r\n",
        "    tf.keras.layers.Bidirectional(tf.keras.layers.LSTM(units, dropout=0.2)),\r\n",
        "    tf.keras.layers.Dense(units, activation='relu'),\r\n",
        "    tf.keras.layers.Dropout(0.5),\r\n",
        "\r\n",
        "    tf.keras.layers.Dense(target_length, activation='softmax')\r\n",
        "])\r\n",
        "\r\n",
        "optimizer = tf.keras.optimizers.Adam(lr=1e-2)\r\n",
        "model.compile(optimizer=optimizer, loss='categorical_crossentropy', metrics=['accuracy'])\r\n",
        "model.summary()"
      ],
      "execution_count": 30,
      "outputs": [
        {
          "output_type": "stream",
          "text": [
            "Model: \"sequential\"\n",
            "_________________________________________________________________\n",
            "Layer (type)                 Output Shape              Param #   \n",
            "=================================================================\n",
            "embedding (Embedding)        (None, None, 512)         54272     \n",
            "_________________________________________________________________\n",
            "bidirectional (Bidirectional (None, 256)               656384    \n",
            "_________________________________________________________________\n",
            "dense (Dense)                (None, 128)               32896     \n",
            "_________________________________________________________________\n",
            "dropout (Dropout)            (None, 128)               0         \n",
            "_________________________________________________________________\n",
            "dense_1 (Dense)              (None, 22)                2838      \n",
            "=================================================================\n",
            "Total params: 746,390\n",
            "Trainable params: 746,390\n",
            "Non-trainable params: 0\n",
            "_________________________________________________________________\n"
          ],
          "name": "stdout"
        }
      ]
    },
    {
      "cell_type": "code",
      "metadata": {
        "id": "2O0TMXbvS6mu"
      },
      "source": [
        "early_stop = tf.keras.callbacks.EarlyStopping(monitor='loss', patience=4)\r\n",
        "log_dir='/content/drive/MyDrive/Chatbot/logs'+datetime.datetime.now().strftime(\"%Y%m%d-%H%M%S\")\r\n",
        "tensorboard=tf.keras.callbacks.TensorBoard(log_dir=log_dir)\r\n",
        "\r\n",
        "model_checkpoint=tf.keras.callbacks.ModelCheckpoint(\r\n",
        "    '/content/drive/MyDrive/Chatbot/models', monitor='loss', save_best_only=True,\r\n",
        "    save_weights_only=False)\r\n",
        "\r\n",
        "# train the model\r\n"
      ],
      "execution_count": 31,
      "outputs": []
    },
    {
      "cell_type": "code",
      "metadata": {
        "colab": {
          "base_uri": "https://localhost:8080/"
        },
        "id": "TFV2MieZYHt_",
        "outputId": "06069f56-53a1-4cf0-daca-30e2e1189863"
      },
      "source": [
        "model.fit(en_inp, target, epochs=epochs, callbacks=[early_stop,tensorboard,model_checkpoint])"
      ],
      "execution_count": 32,
      "outputs": [
        {
          "output_type": "stream",
          "text": [
            "Epoch 1/50\n",
            "3/3 [==============================] - 5s 236ms/step - loss: 3.0974 - accuracy: 0.0380\n"
          ],
          "name": "stdout"
        },
        {
          "output_type": "stream",
          "text": [
            "WARNING:absl:Found untraced functions such as lstm_cell_4_layer_call_fn, lstm_cell_4_layer_call_and_return_conditional_losses, lstm_cell_5_layer_call_fn, lstm_cell_5_layer_call_and_return_conditional_losses, lstm_cell_4_layer_call_fn while saving (showing 5 of 10). These functions will not be directly callable after loading.\n",
            "WARNING:absl:Found untraced functions such as lstm_cell_4_layer_call_fn, lstm_cell_4_layer_call_and_return_conditional_losses, lstm_cell_5_layer_call_fn, lstm_cell_5_layer_call_and_return_conditional_losses, lstm_cell_4_layer_call_fn while saving (showing 5 of 10). These functions will not be directly callable after loading.\n"
          ],
          "name": "stderr"
        },
        {
          "output_type": "stream",
          "text": [
            "INFO:tensorflow:Assets written to: /content/drive/MyDrive/Chatbot/models/assets\n"
          ],
          "name": "stdout"
        },
        {
          "output_type": "stream",
          "text": [
            "INFO:tensorflow:Assets written to: /content/drive/MyDrive/Chatbot/models/assets\n"
          ],
          "name": "stderr"
        },
        {
          "output_type": "stream",
          "text": [
            "Epoch 2/50\n",
            "3/3 [==============================] - 0s 95ms/step - loss: 2.9662 - accuracy: 0.1141\n"
          ],
          "name": "stdout"
        },
        {
          "output_type": "stream",
          "text": [
            "WARNING:absl:Found untraced functions such as lstm_cell_4_layer_call_fn, lstm_cell_4_layer_call_and_return_conditional_losses, lstm_cell_5_layer_call_fn, lstm_cell_5_layer_call_and_return_conditional_losses, lstm_cell_4_layer_call_fn while saving (showing 5 of 10). These functions will not be directly callable after loading.\n",
            "WARNING:absl:Found untraced functions such as lstm_cell_4_layer_call_fn, lstm_cell_4_layer_call_and_return_conditional_losses, lstm_cell_5_layer_call_fn, lstm_cell_5_layer_call_and_return_conditional_losses, lstm_cell_4_layer_call_fn while saving (showing 5 of 10). These functions will not be directly callable after loading.\n"
          ],
          "name": "stderr"
        },
        {
          "output_type": "stream",
          "text": [
            "INFO:tensorflow:Assets written to: /content/drive/MyDrive/Chatbot/models/assets\n"
          ],
          "name": "stdout"
        },
        {
          "output_type": "stream",
          "text": [
            "INFO:tensorflow:Assets written to: /content/drive/MyDrive/Chatbot/models/assets\n"
          ],
          "name": "stderr"
        },
        {
          "output_type": "stream",
          "text": [
            "Epoch 3/50\n",
            "3/3 [==============================] - 0s 79ms/step - loss: 2.4170 - accuracy: 0.4755\n"
          ],
          "name": "stdout"
        },
        {
          "output_type": "stream",
          "text": [
            "WARNING:absl:Found untraced functions such as lstm_cell_4_layer_call_fn, lstm_cell_4_layer_call_and_return_conditional_losses, lstm_cell_5_layer_call_fn, lstm_cell_5_layer_call_and_return_conditional_losses, lstm_cell_4_layer_call_fn while saving (showing 5 of 10). These functions will not be directly callable after loading.\n",
            "WARNING:absl:Found untraced functions such as lstm_cell_4_layer_call_fn, lstm_cell_4_layer_call_and_return_conditional_losses, lstm_cell_5_layer_call_fn, lstm_cell_5_layer_call_and_return_conditional_losses, lstm_cell_4_layer_call_fn while saving (showing 5 of 10). These functions will not be directly callable after loading.\n"
          ],
          "name": "stderr"
        },
        {
          "output_type": "stream",
          "text": [
            "INFO:tensorflow:Assets written to: /content/drive/MyDrive/Chatbot/models/assets\n"
          ],
          "name": "stdout"
        },
        {
          "output_type": "stream",
          "text": [
            "INFO:tensorflow:Assets written to: /content/drive/MyDrive/Chatbot/models/assets\n"
          ],
          "name": "stderr"
        },
        {
          "output_type": "stream",
          "text": [
            "Epoch 4/50\n",
            "3/3 [==============================] - 0s 82ms/step - loss: 1.7355 - accuracy: 0.4696\n"
          ],
          "name": "stdout"
        },
        {
          "output_type": "stream",
          "text": [
            "WARNING:absl:Found untraced functions such as lstm_cell_4_layer_call_fn, lstm_cell_4_layer_call_and_return_conditional_losses, lstm_cell_5_layer_call_fn, lstm_cell_5_layer_call_and_return_conditional_losses, lstm_cell_4_layer_call_fn while saving (showing 5 of 10). These functions will not be directly callable after loading.\n",
            "WARNING:absl:Found untraced functions such as lstm_cell_4_layer_call_fn, lstm_cell_4_layer_call_and_return_conditional_losses, lstm_cell_5_layer_call_fn, lstm_cell_5_layer_call_and_return_conditional_losses, lstm_cell_4_layer_call_fn while saving (showing 5 of 10). These functions will not be directly callable after loading.\n"
          ],
          "name": "stderr"
        },
        {
          "output_type": "stream",
          "text": [
            "INFO:tensorflow:Assets written to: /content/drive/MyDrive/Chatbot/models/assets\n"
          ],
          "name": "stdout"
        },
        {
          "output_type": "stream",
          "text": [
            "INFO:tensorflow:Assets written to: /content/drive/MyDrive/Chatbot/models/assets\n"
          ],
          "name": "stderr"
        },
        {
          "output_type": "stream",
          "text": [
            "Epoch 5/50\n",
            "3/3 [==============================] - 0s 95ms/step - loss: 1.2903 - accuracy: 0.5060\n"
          ],
          "name": "stdout"
        },
        {
          "output_type": "stream",
          "text": [
            "WARNING:absl:Found untraced functions such as lstm_cell_4_layer_call_fn, lstm_cell_4_layer_call_and_return_conditional_losses, lstm_cell_5_layer_call_fn, lstm_cell_5_layer_call_and_return_conditional_losses, lstm_cell_4_layer_call_fn while saving (showing 5 of 10). These functions will not be directly callable after loading.\n",
            "WARNING:absl:Found untraced functions such as lstm_cell_4_layer_call_fn, lstm_cell_4_layer_call_and_return_conditional_losses, lstm_cell_5_layer_call_fn, lstm_cell_5_layer_call_and_return_conditional_losses, lstm_cell_4_layer_call_fn while saving (showing 5 of 10). These functions will not be directly callable after loading.\n"
          ],
          "name": "stderr"
        },
        {
          "output_type": "stream",
          "text": [
            "INFO:tensorflow:Assets written to: /content/drive/MyDrive/Chatbot/models/assets\n"
          ],
          "name": "stdout"
        },
        {
          "output_type": "stream",
          "text": [
            "INFO:tensorflow:Assets written to: /content/drive/MyDrive/Chatbot/models/assets\n"
          ],
          "name": "stderr"
        },
        {
          "output_type": "stream",
          "text": [
            "Epoch 6/50\n",
            "3/3 [==============================] - 0s 86ms/step - loss: 0.8655 - accuracy: 0.7135\n"
          ],
          "name": "stdout"
        },
        {
          "output_type": "stream",
          "text": [
            "WARNING:absl:Found untraced functions such as lstm_cell_4_layer_call_fn, lstm_cell_4_layer_call_and_return_conditional_losses, lstm_cell_5_layer_call_fn, lstm_cell_5_layer_call_and_return_conditional_losses, lstm_cell_4_layer_call_fn while saving (showing 5 of 10). These functions will not be directly callable after loading.\n",
            "WARNING:absl:Found untraced functions such as lstm_cell_4_layer_call_fn, lstm_cell_4_layer_call_and_return_conditional_losses, lstm_cell_5_layer_call_fn, lstm_cell_5_layer_call_and_return_conditional_losses, lstm_cell_4_layer_call_fn while saving (showing 5 of 10). These functions will not be directly callable after loading.\n"
          ],
          "name": "stderr"
        },
        {
          "output_type": "stream",
          "text": [
            "INFO:tensorflow:Assets written to: /content/drive/MyDrive/Chatbot/models/assets\n"
          ],
          "name": "stdout"
        },
        {
          "output_type": "stream",
          "text": [
            "INFO:tensorflow:Assets written to: /content/drive/MyDrive/Chatbot/models/assets\n"
          ],
          "name": "stderr"
        },
        {
          "output_type": "stream",
          "text": [
            "Epoch 7/50\n",
            "3/3 [==============================] - 0s 80ms/step - loss: 0.7221 - accuracy: 0.7941\n"
          ],
          "name": "stdout"
        },
        {
          "output_type": "stream",
          "text": [
            "WARNING:absl:Found untraced functions such as lstm_cell_4_layer_call_fn, lstm_cell_4_layer_call_and_return_conditional_losses, lstm_cell_5_layer_call_fn, lstm_cell_5_layer_call_and_return_conditional_losses, lstm_cell_4_layer_call_fn while saving (showing 5 of 10). These functions will not be directly callable after loading.\n",
            "WARNING:absl:Found untraced functions such as lstm_cell_4_layer_call_fn, lstm_cell_4_layer_call_and_return_conditional_losses, lstm_cell_5_layer_call_fn, lstm_cell_5_layer_call_and_return_conditional_losses, lstm_cell_4_layer_call_fn while saving (showing 5 of 10). These functions will not be directly callable after loading.\n"
          ],
          "name": "stderr"
        },
        {
          "output_type": "stream",
          "text": [
            "INFO:tensorflow:Assets written to: /content/drive/MyDrive/Chatbot/models/assets\n"
          ],
          "name": "stdout"
        },
        {
          "output_type": "stream",
          "text": [
            "INFO:tensorflow:Assets written to: /content/drive/MyDrive/Chatbot/models/assets\n"
          ],
          "name": "stderr"
        },
        {
          "output_type": "stream",
          "text": [
            "Epoch 8/50\n",
            "3/3 [==============================] - 0s 71ms/step - loss: 0.5289 - accuracy: 0.8556\n"
          ],
          "name": "stdout"
        },
        {
          "output_type": "stream",
          "text": [
            "WARNING:absl:Found untraced functions such as lstm_cell_4_layer_call_fn, lstm_cell_4_layer_call_and_return_conditional_losses, lstm_cell_5_layer_call_fn, lstm_cell_5_layer_call_and_return_conditional_losses, lstm_cell_4_layer_call_fn while saving (showing 5 of 10). These functions will not be directly callable after loading.\n",
            "WARNING:absl:Found untraced functions such as lstm_cell_4_layer_call_fn, lstm_cell_4_layer_call_and_return_conditional_losses, lstm_cell_5_layer_call_fn, lstm_cell_5_layer_call_and_return_conditional_losses, lstm_cell_4_layer_call_fn while saving (showing 5 of 10). These functions will not be directly callable after loading.\n"
          ],
          "name": "stderr"
        },
        {
          "output_type": "stream",
          "text": [
            "INFO:tensorflow:Assets written to: /content/drive/MyDrive/Chatbot/models/assets\n"
          ],
          "name": "stdout"
        },
        {
          "output_type": "stream",
          "text": [
            "INFO:tensorflow:Assets written to: /content/drive/MyDrive/Chatbot/models/assets\n"
          ],
          "name": "stderr"
        },
        {
          "output_type": "stream",
          "text": [
            "Epoch 9/50\n",
            "3/3 [==============================] - 0s 80ms/step - loss: 0.2609 - accuracy: 0.9340\n"
          ],
          "name": "stdout"
        },
        {
          "output_type": "stream",
          "text": [
            "WARNING:absl:Found untraced functions such as lstm_cell_4_layer_call_fn, lstm_cell_4_layer_call_and_return_conditional_losses, lstm_cell_5_layer_call_fn, lstm_cell_5_layer_call_and_return_conditional_losses, lstm_cell_4_layer_call_fn while saving (showing 5 of 10). These functions will not be directly callable after loading.\n",
            "WARNING:absl:Found untraced functions such as lstm_cell_4_layer_call_fn, lstm_cell_4_layer_call_and_return_conditional_losses, lstm_cell_5_layer_call_fn, lstm_cell_5_layer_call_and_return_conditional_losses, lstm_cell_4_layer_call_fn while saving (showing 5 of 10). These functions will not be directly callable after loading.\n"
          ],
          "name": "stderr"
        },
        {
          "output_type": "stream",
          "text": [
            "INFO:tensorflow:Assets written to: /content/drive/MyDrive/Chatbot/models/assets\n"
          ],
          "name": "stdout"
        },
        {
          "output_type": "stream",
          "text": [
            "INFO:tensorflow:Assets written to: /content/drive/MyDrive/Chatbot/models/assets\n"
          ],
          "name": "stderr"
        },
        {
          "output_type": "stream",
          "text": [
            "Epoch 10/50\n",
            "3/3 [==============================] - 0s 97ms/step - loss: 0.1953 - accuracy: 0.8819\n"
          ],
          "name": "stdout"
        },
        {
          "output_type": "stream",
          "text": [
            "WARNING:absl:Found untraced functions such as lstm_cell_4_layer_call_fn, lstm_cell_4_layer_call_and_return_conditional_losses, lstm_cell_5_layer_call_fn, lstm_cell_5_layer_call_and_return_conditional_losses, lstm_cell_4_layer_call_fn while saving (showing 5 of 10). These functions will not be directly callable after loading.\n",
            "WARNING:absl:Found untraced functions such as lstm_cell_4_layer_call_fn, lstm_cell_4_layer_call_and_return_conditional_losses, lstm_cell_5_layer_call_fn, lstm_cell_5_layer_call_and_return_conditional_losses, lstm_cell_4_layer_call_fn while saving (showing 5 of 10). These functions will not be directly callable after loading.\n"
          ],
          "name": "stderr"
        },
        {
          "output_type": "stream",
          "text": [
            "INFO:tensorflow:Assets written to: /content/drive/MyDrive/Chatbot/models/assets\n"
          ],
          "name": "stdout"
        },
        {
          "output_type": "stream",
          "text": [
            "INFO:tensorflow:Assets written to: /content/drive/MyDrive/Chatbot/models/assets\n"
          ],
          "name": "stderr"
        },
        {
          "output_type": "stream",
          "text": [
            "Epoch 11/50\n",
            "3/3 [==============================] - 0s 98ms/step - loss: 0.1215 - accuracy: 0.9798\n"
          ],
          "name": "stdout"
        },
        {
          "output_type": "stream",
          "text": [
            "WARNING:absl:Found untraced functions such as lstm_cell_4_layer_call_fn, lstm_cell_4_layer_call_and_return_conditional_losses, lstm_cell_5_layer_call_fn, lstm_cell_5_layer_call_and_return_conditional_losses, lstm_cell_4_layer_call_fn while saving (showing 5 of 10). These functions will not be directly callable after loading.\n",
            "WARNING:absl:Found untraced functions such as lstm_cell_4_layer_call_fn, lstm_cell_4_layer_call_and_return_conditional_losses, lstm_cell_5_layer_call_fn, lstm_cell_5_layer_call_and_return_conditional_losses, lstm_cell_4_layer_call_fn while saving (showing 5 of 10). These functions will not be directly callable after loading.\n"
          ],
          "name": "stderr"
        },
        {
          "output_type": "stream",
          "text": [
            "INFO:tensorflow:Assets written to: /content/drive/MyDrive/Chatbot/models/assets\n"
          ],
          "name": "stdout"
        },
        {
          "output_type": "stream",
          "text": [
            "INFO:tensorflow:Assets written to: /content/drive/MyDrive/Chatbot/models/assets\n"
          ],
          "name": "stderr"
        },
        {
          "output_type": "stream",
          "text": [
            "Epoch 12/50\n",
            "3/3 [==============================] - 0s 71ms/step - loss: 0.2766 - accuracy: 0.9262\n",
            "Epoch 13/50\n",
            "3/3 [==============================] - 0s 75ms/step - loss: 0.0920 - accuracy: 0.9659\n"
          ],
          "name": "stdout"
        },
        {
          "output_type": "stream",
          "text": [
            "WARNING:absl:Found untraced functions such as lstm_cell_4_layer_call_fn, lstm_cell_4_layer_call_and_return_conditional_losses, lstm_cell_5_layer_call_fn, lstm_cell_5_layer_call_and_return_conditional_losses, lstm_cell_4_layer_call_fn while saving (showing 5 of 10). These functions will not be directly callable after loading.\n",
            "WARNING:absl:Found untraced functions such as lstm_cell_4_layer_call_fn, lstm_cell_4_layer_call_and_return_conditional_losses, lstm_cell_5_layer_call_fn, lstm_cell_5_layer_call_and_return_conditional_losses, lstm_cell_4_layer_call_fn while saving (showing 5 of 10). These functions will not be directly callable after loading.\n"
          ],
          "name": "stderr"
        },
        {
          "output_type": "stream",
          "text": [
            "INFO:tensorflow:Assets written to: /content/drive/MyDrive/Chatbot/models/assets\n"
          ],
          "name": "stdout"
        },
        {
          "output_type": "stream",
          "text": [
            "INFO:tensorflow:Assets written to: /content/drive/MyDrive/Chatbot/models/assets\n"
          ],
          "name": "stderr"
        },
        {
          "output_type": "stream",
          "text": [
            "Epoch 14/50\n",
            "3/3 [==============================] - 0s 99ms/step - loss: 0.1509 - accuracy: 0.9496\n",
            "Epoch 15/50\n",
            "3/3 [==============================] - 0s 89ms/step - loss: 0.0911 - accuracy: 0.9759\n",
            "Epoch 16/50\n",
            "3/3 [==============================] - 0s 109ms/step - loss: 0.0676 - accuracy: 1.0000\n"
          ],
          "name": "stdout"
        },
        {
          "output_type": "stream",
          "text": [
            "WARNING:absl:Found untraced functions such as lstm_cell_4_layer_call_fn, lstm_cell_4_layer_call_and_return_conditional_losses, lstm_cell_5_layer_call_fn, lstm_cell_5_layer_call_and_return_conditional_losses, lstm_cell_4_layer_call_fn while saving (showing 5 of 10). These functions will not be directly callable after loading.\n",
            "WARNING:absl:Found untraced functions such as lstm_cell_4_layer_call_fn, lstm_cell_4_layer_call_and_return_conditional_losses, lstm_cell_5_layer_call_fn, lstm_cell_5_layer_call_and_return_conditional_losses, lstm_cell_4_layer_call_fn while saving (showing 5 of 10). These functions will not be directly callable after loading.\n"
          ],
          "name": "stderr"
        },
        {
          "output_type": "stream",
          "text": [
            "INFO:tensorflow:Assets written to: /content/drive/MyDrive/Chatbot/models/assets\n"
          ],
          "name": "stdout"
        },
        {
          "output_type": "stream",
          "text": [
            "INFO:tensorflow:Assets written to: /content/drive/MyDrive/Chatbot/models/assets\n"
          ],
          "name": "stderr"
        },
        {
          "output_type": "stream",
          "text": [
            "Epoch 17/50\n",
            "3/3 [==============================] - 0s 86ms/step - loss: 0.0656 - accuracy: 0.9642\n"
          ],
          "name": "stdout"
        },
        {
          "output_type": "stream",
          "text": [
            "WARNING:absl:Found untraced functions such as lstm_cell_4_layer_call_fn, lstm_cell_4_layer_call_and_return_conditional_losses, lstm_cell_5_layer_call_fn, lstm_cell_5_layer_call_and_return_conditional_losses, lstm_cell_4_layer_call_fn while saving (showing 5 of 10). These functions will not be directly callable after loading.\n",
            "WARNING:absl:Found untraced functions such as lstm_cell_4_layer_call_fn, lstm_cell_4_layer_call_and_return_conditional_losses, lstm_cell_5_layer_call_fn, lstm_cell_5_layer_call_and_return_conditional_losses, lstm_cell_4_layer_call_fn while saving (showing 5 of 10). These functions will not be directly callable after loading.\n"
          ],
          "name": "stderr"
        },
        {
          "output_type": "stream",
          "text": [
            "INFO:tensorflow:Assets written to: /content/drive/MyDrive/Chatbot/models/assets\n"
          ],
          "name": "stdout"
        },
        {
          "output_type": "stream",
          "text": [
            "INFO:tensorflow:Assets written to: /content/drive/MyDrive/Chatbot/models/assets\n"
          ],
          "name": "stderr"
        },
        {
          "output_type": "stream",
          "text": [
            "Epoch 18/50\n",
            "3/3 [==============================] - 0s 102ms/step - loss: 0.1032 - accuracy: 0.9558\n",
            "Epoch 19/50\n",
            "3/3 [==============================] - 0s 84ms/step - loss: 0.0969 - accuracy: 0.9580\n",
            "Epoch 20/50\n",
            "3/3 [==============================] - 0s 94ms/step - loss: 0.0903 - accuracy: 0.9580\n",
            "Epoch 21/50\n",
            "3/3 [==============================] - 0s 93ms/step - loss: 0.0995 - accuracy: 0.9759\n"
          ],
          "name": "stdout"
        },
        {
          "output_type": "execute_result",
          "data": {
            "text/plain": [
              "<tensorflow.python.keras.callbacks.History at 0x7f4b119365c0>"
            ]
          },
          "metadata": {
            "tags": []
          },
          "execution_count": 32
        }
      ]
    },
    {
      "cell_type": "code",
      "metadata": {
        "colab": {
          "base_uri": "https://localhost:8080/"
        },
        "id": "lZXAZpRxs64p",
        "outputId": "2f4b7b55-8a2d-4c15-b12a-e5e22f4f0556"
      },
      "source": [
        "model.save('/content/drive/MyDrive/Chatbot/models/')"
      ],
      "execution_count": 50,
      "outputs": [
        {
          "output_type": "stream",
          "text": [
            "WARNING:absl:Found untraced functions such as lstm_cell_4_layer_call_fn, lstm_cell_4_layer_call_and_return_conditional_losses, lstm_cell_5_layer_call_fn, lstm_cell_5_layer_call_and_return_conditional_losses, lstm_cell_4_layer_call_fn while saving (showing 5 of 10). These functions will not be directly callable after loading.\n",
            "WARNING:absl:Found untraced functions such as lstm_cell_4_layer_call_fn, lstm_cell_4_layer_call_and_return_conditional_losses, lstm_cell_5_layer_call_fn, lstm_cell_5_layer_call_and_return_conditional_losses, lstm_cell_4_layer_call_fn while saving (showing 5 of 10). These functions will not be directly callable after loading.\n"
          ],
          "name": "stderr"
        },
        {
          "output_type": "stream",
          "text": [
            "INFO:tensorflow:Assets written to: /content/drive/MyDrive/Chatbot/models/assets\n"
          ],
          "name": "stdout"
        },
        {
          "output_type": "stream",
          "text": [
            "INFO:tensorflow:Assets written to: /content/drive/MyDrive/Chatbot/models/assets\n"
          ],
          "name": "stderr"
        }
      ]
    },
    {
      "cell_type": "code",
      "metadata": {
        "id": "CWcRK5d3rj-r",
        "colab": {
          "base_uri": "https://localhost:8080/"
        },
        "outputId": "eae07658-0cc6-4aeb-9fa9-0572ef478b6f"
      },
      "source": [
        "import random\r\n",
        "def get_response(sentence1):    \r\n",
        "    preped=[]\r\n",
        "    preped.append(preprocessing(sentence1))\r\n",
        "    seq=tokenizer.texts_to_sequences(preped)\r\n",
        "    pad_seq=tf.keras.preprocessing.sequence.pad_sequences(seq,padding='pre',maxlen=9)\r\n",
        "    #ex_text=tf.expand_dims(text1,0)\r\n",
        "    #print(f'ex_test = {ex_text}')\r\n",
        "    \r\n",
        "    pred = model(pad_seq)\r\n",
        "    \r\n",
        "    pred_class = np.argmax(pred.numpy(), axis=1)\r\n",
        "    print('pred_class is : ',unmapping[pred_class[0]] )\r\n",
        "\r\n",
        "    responses=raw_df[raw_df['Intent']==unmapping[pred_class[0]]]['Responses'].tolist()\r\n",
        "    \r\n",
        "    return unmapping[pred_class[0]],random.choices(responses,k=1)\r\n",
        "    \r\n",
        "\r\n",
        "Intent_type,response= get_response('Got any gossip')"
      ],
      "execution_count": 38,
      "outputs": [
        {
          "output_type": "stream",
          "text": [
            "pred_class is :  17\n"
          ],
          "name": "stdout"
        }
      ]
    },
    {
      "cell_type": "code",
      "metadata": {
        "colab": {
          "base_uri": "https://localhost:8080/",
          "height": 832
        },
        "id": "uO7eIKhxnspX",
        "outputId": "a4482949-d9b6-4614-9e23-8d3b8a9dfbb1"
      },
      "source": [
        "while True:\r\n",
        "  inp= input('You: ').lower()\r\n",
        "  if inp.lower()=='quit':\r\n",
        "    break\r\n",
        "  print(inp)\r\n",
        "  type1,response=get_response(inp)\r\n",
        "  print(f\"Bot: Intent-type {type1} - {response}\")"
      ],
      "execution_count": 53,
      "outputs": [
        {
          "output_type": "stream",
          "text": [
            "You: hi\n",
            "hi\n",
            "pred_class is :  Greeting\n",
            "Bot: Intent-type Greeting - ['Hola human, please tell me your GeniSys user']\n",
            "You: i am pritam\n",
            "i am pritam\n",
            "pred_class is :  Gossip\n",
            "Bot: Intent-type Gossip - ['Habib said I learn them in conversations and simply repeat them at a later time.']\n",
            "You: i am \n",
            "i am \n",
            "pred_class is :  Gossip\n",
            "Bot: Intent-type Gossip - ['Jay said I referred him to a guide that will show him rooms in china.']\n",
            "You: this is \n",
            "this is \n",
            "pred_class is :  GreetingResponse\n",
            "Bot: Intent-type GreetingResponse - ['OK! Hola <HUMAN>, how can I help you?']\n"
          ],
          "name": "stdout"
        },
        {
          "output_type": "error",
          "ename": "KeyboardInterrupt",
          "evalue": "ignored",
          "traceback": [
            "\u001b[0;31m---------------------------------------------------------------------------\u001b[0m",
            "\u001b[0;31mKeyboardInterrupt\u001b[0m                         Traceback (most recent call last)",
            "\u001b[0;32m/usr/local/lib/python3.6/dist-packages/ipykernel/kernelbase.py\u001b[0m in \u001b[0;36m_input_request\u001b[0;34m(self, prompt, ident, parent, password)\u001b[0m\n\u001b[1;32m    728\u001b[0m             \u001b[0;32mtry\u001b[0m\u001b[0;34m:\u001b[0m\u001b[0;34m\u001b[0m\u001b[0;34m\u001b[0m\u001b[0m\n\u001b[0;32m--> 729\u001b[0;31m                 \u001b[0mident\u001b[0m\u001b[0;34m,\u001b[0m \u001b[0mreply\u001b[0m \u001b[0;34m=\u001b[0m \u001b[0mself\u001b[0m\u001b[0;34m.\u001b[0m\u001b[0msession\u001b[0m\u001b[0;34m.\u001b[0m\u001b[0mrecv\u001b[0m\u001b[0;34m(\u001b[0m\u001b[0mself\u001b[0m\u001b[0;34m.\u001b[0m\u001b[0mstdin_socket\u001b[0m\u001b[0;34m,\u001b[0m \u001b[0;36m0\u001b[0m\u001b[0;34m)\u001b[0m\u001b[0;34m\u001b[0m\u001b[0;34m\u001b[0m\u001b[0m\n\u001b[0m\u001b[1;32m    730\u001b[0m             \u001b[0;32mexcept\u001b[0m \u001b[0mException\u001b[0m\u001b[0;34m:\u001b[0m\u001b[0;34m\u001b[0m\u001b[0;34m\u001b[0m\u001b[0m\n",
            "\u001b[0;32m/usr/local/lib/python3.6/dist-packages/jupyter_client/session.py\u001b[0m in \u001b[0;36mrecv\u001b[0;34m(self, socket, mode, content, copy)\u001b[0m\n\u001b[1;32m    802\u001b[0m         \u001b[0;32mtry\u001b[0m\u001b[0;34m:\u001b[0m\u001b[0;34m\u001b[0m\u001b[0;34m\u001b[0m\u001b[0m\n\u001b[0;32m--> 803\u001b[0;31m             \u001b[0mmsg_list\u001b[0m \u001b[0;34m=\u001b[0m \u001b[0msocket\u001b[0m\u001b[0;34m.\u001b[0m\u001b[0mrecv_multipart\u001b[0m\u001b[0;34m(\u001b[0m\u001b[0mmode\u001b[0m\u001b[0;34m,\u001b[0m \u001b[0mcopy\u001b[0m\u001b[0;34m=\u001b[0m\u001b[0mcopy\u001b[0m\u001b[0;34m)\u001b[0m\u001b[0;34m\u001b[0m\u001b[0;34m\u001b[0m\u001b[0m\n\u001b[0m\u001b[1;32m    804\u001b[0m         \u001b[0;32mexcept\u001b[0m \u001b[0mzmq\u001b[0m\u001b[0;34m.\u001b[0m\u001b[0mZMQError\u001b[0m \u001b[0;32mas\u001b[0m \u001b[0me\u001b[0m\u001b[0;34m:\u001b[0m\u001b[0;34m\u001b[0m\u001b[0;34m\u001b[0m\u001b[0m\n",
            "\u001b[0;32m/usr/local/lib/python3.6/dist-packages/zmq/sugar/socket.py\u001b[0m in \u001b[0;36mrecv_multipart\u001b[0;34m(self, flags, copy, track)\u001b[0m\n\u001b[1;32m    565\u001b[0m         \"\"\"\n\u001b[0;32m--> 566\u001b[0;31m         \u001b[0mparts\u001b[0m \u001b[0;34m=\u001b[0m \u001b[0;34m[\u001b[0m\u001b[0mself\u001b[0m\u001b[0;34m.\u001b[0m\u001b[0mrecv\u001b[0m\u001b[0;34m(\u001b[0m\u001b[0mflags\u001b[0m\u001b[0;34m,\u001b[0m \u001b[0mcopy\u001b[0m\u001b[0;34m=\u001b[0m\u001b[0mcopy\u001b[0m\u001b[0;34m,\u001b[0m \u001b[0mtrack\u001b[0m\u001b[0;34m=\u001b[0m\u001b[0mtrack\u001b[0m\u001b[0;34m)\u001b[0m\u001b[0;34m]\u001b[0m\u001b[0;34m\u001b[0m\u001b[0;34m\u001b[0m\u001b[0m\n\u001b[0m\u001b[1;32m    567\u001b[0m         \u001b[0;31m# have first part already, only loop while more to receive\u001b[0m\u001b[0;34m\u001b[0m\u001b[0;34m\u001b[0m\u001b[0;34m\u001b[0m\u001b[0m\n",
            "\u001b[0;32mzmq/backend/cython/socket.pyx\u001b[0m in \u001b[0;36mzmq.backend.cython.socket.Socket.recv\u001b[0;34m()\u001b[0m\n",
            "\u001b[0;32mzmq/backend/cython/socket.pyx\u001b[0m in \u001b[0;36mzmq.backend.cython.socket.Socket.recv\u001b[0;34m()\u001b[0m\n",
            "\u001b[0;32mzmq/backend/cython/socket.pyx\u001b[0m in \u001b[0;36mzmq.backend.cython.socket._recv_copy\u001b[0;34m()\u001b[0m\n",
            "\u001b[0;32m/usr/local/lib/python3.6/dist-packages/zmq/backend/cython/checkrc.pxd\u001b[0m in \u001b[0;36mzmq.backend.cython.checkrc._check_rc\u001b[0;34m()\u001b[0m\n",
            "\u001b[0;31mKeyboardInterrupt\u001b[0m: ",
            "\nDuring handling of the above exception, another exception occurred:\n",
            "\u001b[0;31mKeyboardInterrupt\u001b[0m                         Traceback (most recent call last)",
            "\u001b[0;32m<ipython-input-53-4309cc4d3247>\u001b[0m in \u001b[0;36m<module>\u001b[0;34m()\u001b[0m\n\u001b[1;32m      1\u001b[0m \u001b[0;32mwhile\u001b[0m \u001b[0;32mTrue\u001b[0m\u001b[0;34m:\u001b[0m\u001b[0;34m\u001b[0m\u001b[0;34m\u001b[0m\u001b[0m\n\u001b[0;32m----> 2\u001b[0;31m   \u001b[0minp\u001b[0m\u001b[0;34m=\u001b[0m \u001b[0minput\u001b[0m\u001b[0;34m(\u001b[0m\u001b[0;34m'You: '\u001b[0m\u001b[0;34m)\u001b[0m\u001b[0;34m.\u001b[0m\u001b[0mlower\u001b[0m\u001b[0;34m(\u001b[0m\u001b[0;34m)\u001b[0m\u001b[0;34m\u001b[0m\u001b[0;34m\u001b[0m\u001b[0m\n\u001b[0m\u001b[1;32m      3\u001b[0m   \u001b[0;32mif\u001b[0m \u001b[0minp\u001b[0m\u001b[0;34m.\u001b[0m\u001b[0mlower\u001b[0m\u001b[0;34m(\u001b[0m\u001b[0;34m)\u001b[0m\u001b[0;34m==\u001b[0m\u001b[0;34m'quit'\u001b[0m\u001b[0;34m:\u001b[0m\u001b[0;34m\u001b[0m\u001b[0;34m\u001b[0m\u001b[0m\n\u001b[1;32m      4\u001b[0m     \u001b[0;32mbreak\u001b[0m\u001b[0;34m\u001b[0m\u001b[0;34m\u001b[0m\u001b[0m\n\u001b[1;32m      5\u001b[0m   \u001b[0mprint\u001b[0m\u001b[0;34m(\u001b[0m\u001b[0minp\u001b[0m\u001b[0;34m)\u001b[0m\u001b[0;34m\u001b[0m\u001b[0;34m\u001b[0m\u001b[0m\n",
            "\u001b[0;32m/usr/local/lib/python3.6/dist-packages/ipykernel/kernelbase.py\u001b[0m in \u001b[0;36mraw_input\u001b[0;34m(self, prompt)\u001b[0m\n\u001b[1;32m    702\u001b[0m             \u001b[0mself\u001b[0m\u001b[0;34m.\u001b[0m\u001b[0m_parent_ident\u001b[0m\u001b[0;34m,\u001b[0m\u001b[0;34m\u001b[0m\u001b[0;34m\u001b[0m\u001b[0m\n\u001b[1;32m    703\u001b[0m             \u001b[0mself\u001b[0m\u001b[0;34m.\u001b[0m\u001b[0m_parent_header\u001b[0m\u001b[0;34m,\u001b[0m\u001b[0;34m\u001b[0m\u001b[0;34m\u001b[0m\u001b[0m\n\u001b[0;32m--> 704\u001b[0;31m             \u001b[0mpassword\u001b[0m\u001b[0;34m=\u001b[0m\u001b[0;32mFalse\u001b[0m\u001b[0;34m,\u001b[0m\u001b[0;34m\u001b[0m\u001b[0;34m\u001b[0m\u001b[0m\n\u001b[0m\u001b[1;32m    705\u001b[0m         )\n\u001b[1;32m    706\u001b[0m \u001b[0;34m\u001b[0m\u001b[0m\n",
            "\u001b[0;32m/usr/local/lib/python3.6/dist-packages/ipykernel/kernelbase.py\u001b[0m in \u001b[0;36m_input_request\u001b[0;34m(self, prompt, ident, parent, password)\u001b[0m\n\u001b[1;32m    732\u001b[0m             \u001b[0;32mexcept\u001b[0m \u001b[0mKeyboardInterrupt\u001b[0m\u001b[0;34m:\u001b[0m\u001b[0;34m\u001b[0m\u001b[0;34m\u001b[0m\u001b[0m\n\u001b[1;32m    733\u001b[0m                 \u001b[0;31m# re-raise KeyboardInterrupt, to truncate traceback\u001b[0m\u001b[0;34m\u001b[0m\u001b[0;34m\u001b[0m\u001b[0;34m\u001b[0m\u001b[0m\n\u001b[0;32m--> 734\u001b[0;31m                 \u001b[0;32mraise\u001b[0m \u001b[0mKeyboardInterrupt\u001b[0m\u001b[0;34m\u001b[0m\u001b[0;34m\u001b[0m\u001b[0m\n\u001b[0m\u001b[1;32m    735\u001b[0m             \u001b[0;32melse\u001b[0m\u001b[0;34m:\u001b[0m\u001b[0;34m\u001b[0m\u001b[0;34m\u001b[0m\u001b[0m\n\u001b[1;32m    736\u001b[0m                 \u001b[0;32mbreak\u001b[0m\u001b[0;34m\u001b[0m\u001b[0;34m\u001b[0m\u001b[0m\n",
            "\u001b[0;31mKeyboardInterrupt\u001b[0m: "
          ]
        }
      ]
    },
    {
      "cell_type": "code",
      "metadata": {
        "id": "WkIHL07gtixZ"
      },
      "source": [
        "new_model = tf.keras.models.load_model('/content/drive/MyDrive/Chatbot/models/')"
      ],
      "execution_count": 51,
      "outputs": []
    },
    {
      "cell_type": "code",
      "metadata": {
        "colab": {
          "base_uri": "https://localhost:8080/"
        },
        "id": "6kIjiBpoJUvN",
        "outputId": "dce505fe-b04f-48a1-8411-f309db4b274c"
      },
      "source": [
        "import random\r\n",
        "def get_response(sentence1):    \r\n",
        "    preped=[]\r\n",
        "    preped.append(preprocessing(sentence1))\r\n",
        "    seq=tokenizer.texts_to_sequences(preped)\r\n",
        "    pad_seq=tf.keras.preprocessing.sequence.pad_sequences(seq,padding='pre',maxlen=9)\r\n",
        "    #ex_text=tf.expand_dims(text1,0)\r\n",
        "    #print(f'ex_test = {ex_text}')\r\n",
        "    \r\n",
        "    pred = new_model(pad_seq)\r\n",
        "    \r\n",
        "    pred_class = np.argmax(pred.numpy(), axis=1)\r\n",
        "    print('pred_class is : ',unmapping[pred_class[0]] )\r\n",
        "\r\n",
        "    responses=raw_df[raw_df['Intent']==unmapping[pred_class[0]]]['Responses'].tolist()\r\n",
        "    \r\n",
        "    return unmapping[pred_class[0]],random.choices(responses,k=1)\r\n",
        "    \r\n",
        "\r\n",
        "Intent_type,response= get_response('Got any gossip')"
      ],
      "execution_count": 52,
      "outputs": [
        {
          "output_type": "stream",
          "text": [
            "pred_class is :  Gossip\n"
          ],
          "name": "stdout"
        }
      ]
    },
    {
      "cell_type": "code",
      "metadata": {
        "id": "c6ByYa09NjLA"
      },
      "source": [
        "while True:\r\n",
        "  inp= input('You: ').lower()\r\n",
        "  if inp.lower()=='quit':\r\n",
        "    break\r\n",
        "  print(inp)\r\n",
        "  type1,response=get_response(inp)\r\n",
        "  print(f\"Bot: Intent-type {type1} - {response}\")"
      ],
      "execution_count": null,
      "outputs": []
    }
  ]
}